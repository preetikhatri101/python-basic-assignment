{
 "cells": [
  {
   "cell_type": "code",
   "execution_count": null,
   "id": "db0d7c32-5af5-4730-9506-390fd675b830",
   "metadata": {},
   "outputs": [],
   "source": [
    "#question 1:-  Discuss string slicing and provide examples?\n",
    "# answer     string slicing allows you to extract a portion of a string or substring by specifying a start and end index.\n",
    "#syntax of string slicing :-   string[start:end:step], by default step is one"
   ]
  },
  {
   "cell_type": "code",
   "execution_count": 1,
   "id": "2e0d1789-97cb-42ad-ae4e-77d229d976fa",
   "metadata": {},
   "outputs": [
    {
     "data": {
      "text/plain": [
       "'i am a good student'"
      ]
     },
     "execution_count": 1,
     "metadata": {},
     "output_type": "execute_result"
    }
   ],
   "source": [
    "#examples\n",
    "a= \"i am a good student\"\n",
    "a"
   ]
  },
  {
   "cell_type": "code",
   "execution_count": 2,
   "id": "260ee90b-8cbb-4a6a-85eb-012c4b648a7a",
   "metadata": {},
   "outputs": [
    {
     "data": {
      "text/plain": [
       "'i am'"
      ]
     },
     "execution_count": 2,
     "metadata": {},
     "output_type": "execute_result"
    }
   ],
   "source": [
    "a[0:4] #0:4 means string index from 0 to 3"
   ]
  },
  {
   "cell_type": "code",
   "execution_count": 3,
   "id": "2cfd42bc-9306-4081-ab0e-be4d82d9e4fa",
   "metadata": {},
   "outputs": [
    {
     "data": {
      "text/plain": [
       "'computer'"
      ]
     },
     "execution_count": 3,
     "metadata": {},
     "output_type": "execute_result"
    }
   ],
   "source": [
    "b=\"computer\"\n",
    "b"
   ]
  },
  {
   "cell_type": "code",
   "execution_count": 4,
   "id": "f0cd7137-d7ae-42f5-b974-c257dbd24b5c",
   "metadata": {},
   "outputs": [
    {
     "data": {
      "text/plain": [
       "'compu'"
      ]
     },
     "execution_count": 4,
     "metadata": {},
     "output_type": "execute_result"
    }
   ],
   "source": [
    "b[ :5]  #string from starting to 4 index"
   ]
  },
  {
   "cell_type": "code",
   "execution_count": 5,
   "id": "0028e253-1b5b-4074-a6e1-406d39636b01",
   "metadata": {},
   "outputs": [
    {
     "data": {
      "text/plain": [
       "'puter'"
      ]
     },
     "execution_count": 5,
     "metadata": {},
     "output_type": "execute_result"
    }
   ],
   "source": [
    "b[3: ]#from index 3 to end of string"
   ]
  },
  {
   "cell_type": "code",
   "execution_count": 6,
   "id": "4923af98-92a5-4367-abd1-c500d7617170",
   "metadata": {},
   "outputs": [
    {
     "data": {
      "text/plain": [
       "'opt'"
      ]
     },
     "execution_count": 6,
     "metadata": {},
     "output_type": "execute_result"
    }
   ],
   "source": [
    "b[1:7:2]# feom index 1 to 6 of step 2"
   ]
  },
  {
   "cell_type": "code",
   "execution_count": 7,
   "id": "cb1ed847-3a4a-44cc-8ec1-e4508d8e7211",
   "metadata": {},
   "outputs": [
    {
     "data": {
      "text/plain": [
       "'cmue'"
      ]
     },
     "execution_count": 7,
     "metadata": {},
     "output_type": "execute_result"
    }
   ],
   "source": [
    "b[ : :2]#starting to ending of step 2"
   ]
  },
  {
   "cell_type": "code",
   "execution_count": null,
   "id": "586cb3ec-500f-428b-b3d9-672aa88da657",
   "metadata": {},
   "outputs": [],
   "source": [
    "#question 2:-  Explain the key features of lists in Python?\n",
    "#answer        1. list is ordered collection of elements.\n",
    "#              2. it is collection of heterogeneous elements means it can take any type of data.\n",
    "#              3. list is like a shopping bag which can store everything.\n",
    "#              4. list is mutable means modification can be don in list.\n"
   ]
  },
  {
   "cell_type": "code",
   "execution_count": 8,
   "id": "0993876a-5ec0-4b9c-8b12-2d52ce1a4f60",
   "metadata": {},
   "outputs": [
    {
     "data": {
      "text/plain": [
       "[1, 2, 3.5, 'preeti', 'pwskills']"
      ]
     },
     "execution_count": 8,
     "metadata": {},
     "output_type": "execute_result"
    }
   ],
   "source": [
    "#examples:-\n",
    "list= [1,2,3.5,\"preeti\",\"pwskills\"]\n",
    "list"
   ]
  },
  {
   "cell_type": "code",
   "execution_count": 9,
   "id": "b0728e1f-afa2-4fd1-a261-c973606ce2a9",
   "metadata": {},
   "outputs": [],
   "source": [
    "list.append(\"manisha\")"
   ]
  },
  {
   "cell_type": "code",
   "execution_count": 10,
   "id": "ec598625-afac-4854-bb23-1062c6a0197c",
   "metadata": {},
   "outputs": [
    {
     "data": {
      "text/plain": [
       "[1, 2, 3.5, 'preeti', 'pwskills', 'manisha']"
      ]
     },
     "execution_count": 10,
     "metadata": {},
     "output_type": "execute_result"
    }
   ],
   "source": [
    "list"
   ]
  },
  {
   "cell_type": "code",
   "execution_count": 11,
   "id": "2783c905-7c24-4e49-b71a-01ae966c6590",
   "metadata": {},
   "outputs": [
    {
     "data": {
      "text/plain": [
       "[1, 2, 3.5, 'preeti']"
      ]
     },
     "execution_count": 11,
     "metadata": {},
     "output_type": "execute_result"
    }
   ],
   "source": [
    "list[0:4]"
   ]
  },
  {
   "cell_type": "code",
   "execution_count": 12,
   "id": "e0a43abd-ccb8-4031-878a-eb5d75edaaec",
   "metadata": {},
   "outputs": [
    {
     "data": {
      "text/plain": [
       "[1, 4, 6.7, 'preeti', 'mohit', 'amit', (6+7j)]"
      ]
     },
     "execution_count": 12,
     "metadata": {},
     "output_type": "execute_result"
    }
   ],
   "source": [
    "#question 3:-  Describe how to access, modify, and delete elements in a list with examples?\n",
    "#answer:       elements of list is accessed by list index\n",
    "list1= [1,4,6.7,\"preeti\",\"mohit\",\"amit\", 6+7j]\n",
    "list1"
   ]
  },
  {
   "cell_type": "code",
   "execution_count": 13,
   "id": "a8bdff79-7b96-4b51-b919-fb90bf33e379",
   "metadata": {},
   "outputs": [
    {
     "data": {
      "text/plain": [
       "'mohit'"
      ]
     },
     "execution_count": 13,
     "metadata": {},
     "output_type": "execute_result"
    }
   ],
   "source": [
    "list1[4]#accessed by index"
   ]
  },
  {
   "cell_type": "code",
   "execution_count": 14,
   "id": "e3cf390f-add9-411a-a264-eec566d224b5",
   "metadata": {},
   "outputs": [
    {
     "data": {
      "text/plain": [
       "[1, 4, 6.7, 'preeti', 'mohit', 'amit', (6+7j)]"
      ]
     },
     "execution_count": 14,
     "metadata": {},
     "output_type": "execute_result"
    }
   ],
   "source": [
    "list1[0: ]"
   ]
  },
  {
   "cell_type": "code",
   "execution_count": 15,
   "id": "c85d4b55-1c36-4781-bb19-01adf60b5439",
   "metadata": {},
   "outputs": [
    {
     "data": {
      "text/plain": [
       "[1, 3.5, 'pwskills']"
      ]
     },
     "execution_count": 15,
     "metadata": {},
     "output_type": "execute_result"
    }
   ],
   "source": [
    "list[0: :2]"
   ]
  },
  {
   "cell_type": "code",
   "execution_count": 19,
   "id": "8e4e6313-053d-4534-aa58-9e4d9d23ae95",
   "metadata": {},
   "outputs": [
    {
     "data": {
      "text/plain": [
       "[1, 4, 6.7, 'hello', 'preeti', 'mohit', 'amit', (6+7j)]"
      ]
     },
     "execution_count": 19,
     "metadata": {},
     "output_type": "execute_result"
    }
   ],
   "source": [
    "list1.insert(3,\"hello\")\n",
    "list1"
   ]
  },
  {
   "cell_type": "raw",
   "id": "b840998d-7033-4db8-8b1c-fbae06bd6f43",
   "metadata": {},
   "source": [
    "list1"
   ]
  },
  {
   "cell_type": "code",
   "execution_count": 20,
   "id": "ba04f4dd-79c1-45c2-9d81-0e5f452c5dcf",
   "metadata": {},
   "outputs": [
    {
     "data": {
      "text/plain": [
       "[1, 4, 6.7, 'preeti', 'mohit', 'amit', (6+7j)]"
      ]
     },
     "execution_count": 20,
     "metadata": {},
     "output_type": "execute_result"
    }
   ],
   "source": [
    "list1.remove(\"hello\")# delete the specific element\n",
    "list1"
   ]
  },
  {
   "cell_type": "code",
   "execution_count": 21,
   "id": "a7b5c311-4e41-4a41-9cc8-e25984870302",
   "metadata": {},
   "outputs": [],
   "source": [
    "list1.clear()#delete the all elements of a list"
   ]
  },
  {
   "cell_type": "code",
   "execution_count": 22,
   "id": "47ae6bcb-abaf-4093-86e5-612e48f05a28",
   "metadata": {},
   "outputs": [
    {
     "data": {
      "text/plain": [
       "[]"
      ]
     },
     "execution_count": 22,
     "metadata": {},
     "output_type": "execute_result"
    }
   ],
   "source": [
    "list1"
   ]
  },
  {
   "cell_type": "code",
   "execution_count": 24,
   "id": "052d5dc2-8d5e-4724-be4c-9694d7d06785",
   "metadata": {},
   "outputs": [
    {
     "ename": "NameError",
     "evalue": "name 'list1' is not defined",
     "output_type": "error",
     "traceback": [
      "\u001b[0;31m---------------------------------------------------------------------------\u001b[0m",
      "\u001b[0;31mNameError\u001b[0m                                 Traceback (most recent call last)",
      "Cell \u001b[0;32mIn[24], line 2\u001b[0m\n\u001b[1;32m      1\u001b[0m \u001b[38;5;28;01mdel\u001b[39;00m list1\n\u001b[0;32m----> 2\u001b[0m \u001b[43mlist1\u001b[49m\n",
      "\u001b[0;31mNameError\u001b[0m: name 'list1' is not defined"
     ]
    }
   ],
   "source": [
    "del list1#delete the list\n",
    "list1"
   ]
  },
  {
   "cell_type": "code",
   "execution_count": 25,
   "id": "8be69cbd-3de5-4d8c-99d5-6dc1f9ff58c0",
   "metadata": {},
   "outputs": [
    {
     "data": {
      "text/plain": [
       "['apple', 'oramge', 'banana']"
      ]
     },
     "execution_count": 25,
     "metadata": {},
     "output_type": "execute_result"
    }
   ],
   "source": [
    "#question 4:-  Compare and contrast tuples and lists with examples\n",
    "#answer        list are mutable,so we can modify them.In contrast tuples are immutable so we can`t change.\n",
    "#              list are defined using square bracket[], while tuples use parenthesis()\n",
    "list=[\"apple\",\"oramge\",\"banana\"]\n",
    "list"
   ]
  },
  {
   "cell_type": "code",
   "execution_count": 26,
   "id": "505b71e3-e365-4bce-b85a-7d3f1d1e79d1",
   "metadata": {},
   "outputs": [
    {
     "data": {
      "text/plain": [
       "('a', 'b', 'c')"
      ]
     },
     "execution_count": 26,
     "metadata": {},
     "output_type": "execute_result"
    }
   ],
   "source": [
    "tuple=(\"a\",\"b\",\"c\")\n",
    "tuple"
   ]
  },
  {
   "cell_type": "code",
   "execution_count": 27,
   "id": "8cf17cfb-c21c-4446-9fe8-6ee18f3d5f41",
   "metadata": {},
   "outputs": [
    {
     "data": {
      "text/plain": [
       "'c'"
      ]
     },
     "execution_count": 27,
     "metadata": {},
     "output_type": "execute_result"
    }
   ],
   "source": [
    "#tuples are often used when you want to ensure that the data remain constant, whereas list are used when you need \n",
    "#a mutable collection of items.\n",
    "tuple[2]"
   ]
  },
  {
   "cell_type": "code",
   "execution_count": 29,
   "id": "2b0621ca-86d9-4183-9ed9-2819b4b523b5",
   "metadata": {},
   "outputs": [
    {
     "ename": "TypeError",
     "evalue": "'tuple' object does not support item assignment",
     "output_type": "error",
     "traceback": [
      "\u001b[0;31m---------------------------------------------------------------------------\u001b[0m",
      "\u001b[0;31mTypeError\u001b[0m                                 Traceback (most recent call last)",
      "Cell \u001b[0;32mIn[29], line 1\u001b[0m\n\u001b[0;32m----> 1\u001b[0m \u001b[38;5;28;43mtuple\u001b[39;49m\u001b[43m[\u001b[49m\u001b[38;5;241;43m2\u001b[39;49m\u001b[43m]\u001b[49m\u001b[38;5;241m=\u001b[39m(\u001b[38;5;124m\"\u001b[39m\u001b[38;5;124md\u001b[39m\u001b[38;5;124m\"\u001b[39m)\n\u001b[1;32m      3\u001b[0m \u001b[38;5;28mtuple\u001b[39m\n",
      "\u001b[0;31mTypeError\u001b[0m: 'tuple' object does not support item assignment"
     ]
    }
   ],
   "source": [
    "tuple[2]=(\"d\")\n",
    "\n",
    "tuple"
   ]
  },
  {
   "cell_type": "code",
   "execution_count": null,
   "id": "e7431318-06d6-4912-8039-eefc58d042be",
   "metadata": {},
   "outputs": [],
   "source": [
    "#tuple immutability helps us a lot in coding and programming,it perform better in read intensive task.\n",
    "#list are slowerin read intensive task.\n"
   ]
  },
  {
   "cell_type": "code",
   "execution_count": 30,
   "id": "ba3d8e64-67ff-4f55-9152-1aeaa7a97e21",
   "metadata": {},
   "outputs": [
    {
     "data": {
      "text/plain": [
       "{1, 2, 3, 4, 5}"
      ]
     },
     "execution_count": 30,
     "metadata": {},
     "output_type": "execute_result"
    }
   ],
   "source": [
    "#question :-5 Describe the key features of sets and provide examples of their use?\n",
    "#answer     1.unorderd and unique collection of elements.\n",
    "#           2.does not allowe any duplicate element.\n",
    "#           3.indexing is not allowed in set.\n",
    "s={1,1,2,3,3,4,3,4,5}\n",
    "s #unique elements"
   ]
  },
  {
   "cell_type": "code",
   "execution_count": 31,
   "id": "91322cb6-c575-4c05-8d1b-2e3bbdab56ad",
   "metadata": {},
   "outputs": [
    {
     "data": {
      "text/plain": [
       "set"
      ]
     },
     "execution_count": 31,
     "metadata": {},
     "output_type": "execute_result"
    }
   ],
   "source": [
    "type(s)"
   ]
  },
  {
   "cell_type": "code",
   "execution_count": 32,
   "id": "4a237ec5-3bcf-43e4-a35f-5cf13f6147ba",
   "metadata": {},
   "outputs": [
    {
     "ename": "TypeError",
     "evalue": "unhashable type: 'set'",
     "output_type": "error",
     "traceback": [
      "\u001b[0;31m---------------------------------------------------------------------------\u001b[0m",
      "\u001b[0;31mTypeError\u001b[0m                                 Traceback (most recent call last)",
      "Cell \u001b[0;32mIn[32], line 1\u001b[0m\n\u001b[0;32m----> 1\u001b[0m set1\u001b[38;5;241m=\u001b[39m{\u001b[38;5;241m1\u001b[39m,\u001b[38;5;241m2\u001b[39m,\u001b[38;5;241m3\u001b[39m,\u001b[38;5;241m4\u001b[39m,{\u001b[38;5;241m1\u001b[39m,\u001b[38;5;241m2\u001b[39m,\u001b[38;5;241m3\u001b[39m}}\n\u001b[1;32m      2\u001b[0m set1\n",
      "\u001b[0;31mTypeError\u001b[0m: unhashable type: 'set'"
     ]
    }
   ],
   "source": [
    "set1={1,2,3,4,{1,2,3}}  #can not define set with in the set\n",
    "set1"
   ]
  },
  {
   "cell_type": "code",
   "execution_count": 33,
   "id": "08513763-5c3f-44f0-9a17-a1f63e8cd8db",
   "metadata": {},
   "outputs": [
    {
     "ename": "SyntaxError",
     "evalue": "invalid syntax (3602569371.py, line 1)",
     "output_type": "error",
     "traceback": [
      "\u001b[0;36m  Cell \u001b[0;32mIn[33], line 1\u001b[0;36m\u001b[0m\n\u001b[0;31m    set2{1,2,3,4,[1,2,3]}\u001b[0m\n\u001b[0m        ^\u001b[0m\n\u001b[0;31mSyntaxError\u001b[0m\u001b[0;31m:\u001b[0m invalid syntax\n"
     ]
    }
   ],
   "source": [
    "set2{1,2,3,4,[1,2,3]}    #list are also not defined in set\n",
    "set2"
   ]
  },
  {
   "cell_type": "code",
   "execution_count": 34,
   "id": "a8d24bd7-5b84-458a-b666-c1674d9c1771",
   "metadata": {},
   "outputs": [
    {
     "data": {
      "text/plain": [
       "{(1, 2), 1, 2, 3}"
      ]
     },
     "execution_count": 34,
     "metadata": {},
     "output_type": "execute_result"
    }
   ],
   "source": [
    "s1={1,2,3,(1,2)}   #it does not throw error because tuple is immutable so we can definr in a set\n",
    "s1"
   ]
  },
  {
   "cell_type": "code",
   "execution_count": 35,
   "id": "71a839ca-f400-45e3-b63c-f5025c4f2d62",
   "metadata": {},
   "outputs": [
    {
     "data": {
      "text/plain": [
       "('preeti', 1, 1, 2, 3, 3)"
      ]
     },
     "execution_count": 35,
     "metadata": {},
     "output_type": "execute_result"
    }
   ],
   "source": [
    "#question 6:- Discuss the use cases of tuples and sets in Python programming?\n",
    "#answer       use case of tuples\n",
    "tuple=(\"preeti\", 1,1,2,3,3)\n",
    "tuple"
   ]
  },
  {
   "cell_type": "code",
   "execution_count": 36,
   "id": "47c58012-e057-4f66-953e-6d923e9a764e",
   "metadata": {},
   "outputs": [
    {
     "data": {
      "text/plain": [
       "2"
      ]
     },
     "execution_count": 36,
     "metadata": {},
     "output_type": "execute_result"
    }
   ],
   "source": [
    "tuple.count(1)  #number of 1 in tuple"
   ]
  },
  {
   "cell_type": "code",
   "execution_count": 37,
   "id": "006f81bf-22c4-4eaf-95b3-a71bec3d7754",
   "metadata": {},
   "outputs": [
    {
     "data": {
      "text/plain": [
       "0"
      ]
     },
     "execution_count": 37,
     "metadata": {},
     "output_type": "execute_result"
    }
   ],
   "source": [
    "tuple.index(\"preeti\")"
   ]
  },
  {
   "cell_type": "code",
   "execution_count": 40,
   "id": "ddb71a44-2721-4bf5-89bb-92c07314e098",
   "metadata": {},
   "outputs": [
    {
     "name": "stdout",
     "output_type": "stream",
     "text": [
      "('preeti', 1, 1, 2, 3, 3, 'preeti', 1, 1, 2, 3, 3)\n"
     ]
    }
   ],
   "source": [
    "print(tuple*2)"
   ]
  },
  {
   "cell_type": "code",
   "execution_count": 41,
   "id": "8e95a199-ac96-4673-9478-73024a1ecc09",
   "metadata": {},
   "outputs": [
    {
     "data": {
      "text/plain": [
       "('preeti', 1, 1, 2)"
      ]
     },
     "execution_count": 41,
     "metadata": {},
     "output_type": "execute_result"
    }
   ],
   "source": [
    "tuple[0:4]"
   ]
  },
  {
   "cell_type": "code",
   "execution_count": 42,
   "id": "b25d83e8-7adc-4185-9cc2-7fb7c2681678",
   "metadata": {},
   "outputs": [
    {
     "data": {
      "text/plain": [
       "(3, 3, 2, 1, 1, 'preeti')"
      ]
     },
     "execution_count": 42,
     "metadata": {},
     "output_type": "execute_result"
    }
   ],
   "source": [
    "tuple[ : :-1] #reverse of tuple"
   ]
  },
  {
   "cell_type": "code",
   "execution_count": 43,
   "id": "c7a347a9-b89d-4b0e-bdaa-2e0e82da0d2e",
   "metadata": {},
   "outputs": [
    {
     "ename": "TypeError",
     "evalue": "'>' not supported between instances of 'int' and 'str'",
     "output_type": "error",
     "traceback": [
      "\u001b[0;31m---------------------------------------------------------------------------\u001b[0m",
      "\u001b[0;31mTypeError\u001b[0m                                 Traceback (most recent call last)",
      "Cell \u001b[0;32mIn[43], line 1\u001b[0m\n\u001b[0;32m----> 1\u001b[0m \u001b[38;5;28;43mmax\u001b[39;49m\u001b[43m(\u001b[49m\u001b[38;5;28;43mtuple\u001b[39;49m\u001b[43m)\u001b[49m\n",
      "\u001b[0;31mTypeError\u001b[0m: '>' not supported between instances of 'int' and 'str'"
     ]
    }
   ],
   "source": [
    "max(tuple)"
   ]
  },
  {
   "cell_type": "code",
   "execution_count": 44,
   "id": "f942aa0b-71a9-487c-bbaa-b020ca264bed",
   "metadata": {},
   "outputs": [
    {
     "data": {
      "text/plain": [
       "100"
      ]
     },
     "execution_count": 44,
     "metadata": {},
     "output_type": "execute_result"
    }
   ],
   "source": [
    "t1=(100,45,33,89)\n",
    "max(t1)"
   ]
  },
  {
   "cell_type": "code",
   "execution_count": 45,
   "id": "c35621a3-91ab-4009-b874-db7117aaae80",
   "metadata": {},
   "outputs": [
    {
     "data": {
      "text/plain": [
       "33"
      ]
     },
     "execution_count": 45,
     "metadata": {},
     "output_type": "execute_result"
    }
   ],
   "source": [
    "min(t1)"
   ]
  },
  {
   "cell_type": "code",
   "execution_count": 48,
   "id": "2f2c0495-fe4c-4344-bf15-5e37329af117",
   "metadata": {},
   "outputs": [
    {
     "data": {
      "text/plain": [
       "{3, 4, 6, 7, 8, 9}"
      ]
     },
     "execution_count": 48,
     "metadata": {},
     "output_type": "execute_result"
    }
   ],
   "source": [
    "#use case of sets\n",
    "s2= {4,7,8,4,6,3,8,3,3,7,9}\n",
    "s2"
   ]
  },
  {
   "cell_type": "code",
   "execution_count": 49,
   "id": "574f9cc8-d8ae-45a6-a4a5-fec684d3f2bf",
   "metadata": {},
   "outputs": [
    {
     "data": {
      "text/plain": [
       "{3, 4, 6, 7, 8, 9, 50}"
      ]
     },
     "execution_count": 49,
     "metadata": {},
     "output_type": "execute_result"
    }
   ],
   "source": [
    "s2.add(50)\n",
    "s2\n"
   ]
  },
  {
   "cell_type": "code",
   "execution_count": 52,
   "id": "1f41f2fd-1c82-4091-b924-d345cdec3006",
   "metadata": {},
   "outputs": [
    {
     "data": {
      "text/plain": [
       "50"
      ]
     },
     "execution_count": 52,
     "metadata": {},
     "output_type": "execute_result"
    }
   ],
   "source": [
    "s2.pop()"
   ]
  },
  {
   "cell_type": "markdown",
   "id": "3a2628a6-3b90-453e-a1e1-8ffb82f796f8",
   "metadata": {},
   "source": [
    "s2,remove(7)"
   ]
  },
  {
   "cell_type": "code",
   "execution_count": 54,
   "id": "b12c169c-b09a-4226-b19e-a54787650825",
   "metadata": {},
   "outputs": [],
   "source": [
    "s2.remove(7)"
   ]
  },
  {
   "cell_type": "code",
   "execution_count": 55,
   "id": "54a3b034-6a9e-418f-bf5b-1f9d041f6f62",
   "metadata": {},
   "outputs": [
    {
     "data": {
      "text/plain": [
       "{3, 4, 6, 8, 9}"
      ]
     },
     "execution_count": 55,
     "metadata": {},
     "output_type": "execute_result"
    }
   ],
   "source": [
    "s2"
   ]
  },
  {
   "cell_type": "code",
   "execution_count": 58,
   "id": "de283d4f-481d-42a6-8c48-e6b8fdfc5829",
   "metadata": {},
   "outputs": [
    {
     "data": {
      "text/plain": [
       "set()"
      ]
     },
     "execution_count": 58,
     "metadata": {},
     "output_type": "execute_result"
    }
   ],
   "source": [
    "s2.clear()\n",
    "s2"
   ]
  },
  {
   "cell_type": "markdown",
   "id": "1c12af18-a535-4093-87bb-8141340a6016",
   "metadata": {},
   "source": [
    "del(s2)\n",
    "s2"
   ]
  },
  {
   "cell_type": "code",
   "execution_count": 59,
   "id": "416f8dd9-e3a2-43d1-a550-a69d580d3e0f",
   "metadata": {},
   "outputs": [
    {
     "data": {
      "text/plain": [
       "set()"
      ]
     },
     "execution_count": 59,
     "metadata": {},
     "output_type": "execute_result"
    }
   ],
   "source": [
    "s2"
   ]
  },
  {
   "cell_type": "code",
   "execution_count": 60,
   "id": "be5f4bc2-9af7-45e9-ba72-21d8313238ec",
   "metadata": {},
   "outputs": [],
   "source": [
    "del s2"
   ]
  },
  {
   "cell_type": "code",
   "execution_count": 61,
   "id": "0f1367f0-2cac-4fab-bdfa-45ab621c506d",
   "metadata": {},
   "outputs": [
    {
     "ename": "NameError",
     "evalue": "name 's2' is not defined",
     "output_type": "error",
     "traceback": [
      "\u001b[0;31m---------------------------------------------------------------------------\u001b[0m",
      "\u001b[0;31mNameError\u001b[0m                                 Traceback (most recent call last)",
      "Cell \u001b[0;32mIn[61], line 1\u001b[0m\n\u001b[0;32m----> 1\u001b[0m \u001b[43ms2\u001b[49m\n",
      "\u001b[0;31mNameError\u001b[0m: name 's2' is not defined"
     ]
    }
   ],
   "source": [
    "s2"
   ]
  },
  {
   "cell_type": "code",
   "execution_count": 62,
   "id": "6d2e855c-e7e6-49ab-8e95-bb8c84eacea7",
   "metadata": {},
   "outputs": [
    {
     "data": {
      "text/plain": [
       "dict"
      ]
     },
     "execution_count": 62,
     "metadata": {},
     "output_type": "execute_result"
    }
   ],
   "source": [
    "#question 7:-Describe how to add, modify, and delete items in a dictionary with examples?\n",
    "#answer      dictionary is a data structure that store the data as key and value pair.\n",
    "d={}\n",
    "type(d)"
   ]
  },
  {
   "cell_type": "code",
   "execution_count": 63,
   "id": "01524616-86ec-4e3a-9965-750b1e8ec01e",
   "metadata": {},
   "outputs": [
    {
     "data": {
      "text/plain": [
       "{'name': 'preeti', 'address': 'a1', 'contact': 123}"
      ]
     },
     "execution_count": 63,
     "metadata": {},
     "output_type": "execute_result"
    }
   ],
   "source": [
    "d={\"name\":\"preeti\",\"address\":\"a1\",\"contact\":123}\n",
    "d"
   ]
  },
  {
   "cell_type": "code",
   "execution_count": 65,
   "id": "91f52351-178b-49e8-8b7f-c939fd529395",
   "metadata": {},
   "outputs": [
    {
     "data": {
      "text/plain": [
       "'preeti'"
      ]
     },
     "execution_count": 65,
     "metadata": {},
     "output_type": "execute_result"
    }
   ],
   "source": [
    "d['name']"
   ]
  },
  {
   "cell_type": "code",
   "execution_count": 66,
   "id": "df83a324-7604-45a7-ab03-f64f9a4783bd",
   "metadata": {},
   "outputs": [
    {
     "data": {
      "text/plain": [
       "{'name': 'ajay', 'address': 'a1', 'contact': 123}"
      ]
     },
     "execution_count": 66,
     "metadata": {},
     "output_type": "execute_result"
    }
   ],
   "source": [
    "d['name']=\"ajay\"\n",
    "d"
   ]
  },
  {
   "cell_type": "code",
   "execution_count": 67,
   "id": "6c294514-264a-4869-8a4d-f21954f160ce",
   "metadata": {},
   "outputs": [],
   "source": [
    "d['email']=\"abc@gmail.com\""
   ]
  },
  {
   "cell_type": "code",
   "execution_count": 68,
   "id": "487941a3-0087-4c47-89eb-7b0e5da7aa38",
   "metadata": {},
   "outputs": [
    {
     "data": {
      "text/plain": [
       "{'name': 'ajay', 'address': 'a1', 'contact': 123, 'email': 'abc@gmail.com'}"
      ]
     },
     "execution_count": 68,
     "metadata": {},
     "output_type": "execute_result"
    }
   ],
   "source": [
    "d"
   ]
  },
  {
   "cell_type": "code",
   "execution_count": 69,
   "id": "d3d4e658-d2b0-4fc2-88e0-c6d3c5014c8a",
   "metadata": {},
   "outputs": [],
   "source": [
    "del d[\"address\"]"
   ]
  },
  {
   "cell_type": "code",
   "execution_count": 70,
   "id": "40fd7188-d4e5-4830-9a09-7780ba0a855c",
   "metadata": {},
   "outputs": [
    {
     "data": {
      "text/plain": [
       "{'name': 'ajay', 'contact': 123, 'email': 'abc@gmail.com'}"
      ]
     },
     "execution_count": 70,
     "metadata": {},
     "output_type": "execute_result"
    }
   ],
   "source": [
    "d"
   ]
  },
  {
   "cell_type": "code",
   "execution_count": 72,
   "id": "301d5fca-955d-4de2-8051-cdfb7ad57d3c",
   "metadata": {},
   "outputs": [
    {
     "data": {
      "text/plain": [
       "{}"
      ]
     },
     "execution_count": 72,
     "metadata": {},
     "output_type": "execute_result"
    }
   ],
   "source": [
    "d.clear()# delete items of dictionary\n",
    "d"
   ]
  },
  {
   "cell_type": "code",
   "execution_count": 73,
   "id": "750a0c88-10cd-475b-816e-0623415ddc72",
   "metadata": {},
   "outputs": [],
   "source": [
    "del d"
   ]
  },
  {
   "cell_type": "code",
   "execution_count": 74,
   "id": "377fc610-2c50-44dc-8140-26f7bccba204",
   "metadata": {},
   "outputs": [
    {
     "ename": "NameError",
     "evalue": "name 'd' is not defined",
     "output_type": "error",
     "traceback": [
      "\u001b[0;31m---------------------------------------------------------------------------\u001b[0m",
      "\u001b[0;31mNameError\u001b[0m                                 Traceback (most recent call last)",
      "Cell \u001b[0;32mIn[74], line 1\u001b[0m\n\u001b[0;32m----> 1\u001b[0m \u001b[43md\u001b[49m\n",
      "\u001b[0;31mNameError\u001b[0m: name 'd' is not defined"
     ]
    }
   ],
   "source": [
    "d"
   ]
  },
  {
   "cell_type": "code",
   "execution_count": 75,
   "id": "30aa6162-4f40-46d5-b6b7-e5a6a6a8a57e",
   "metadata": {},
   "outputs": [
    {
     "ename": "TypeError",
     "evalue": "unhashable type: 'list'",
     "output_type": "error",
     "traceback": [
      "\u001b[0;31m---------------------------------------------------------------------------\u001b[0m",
      "\u001b[0;31mTypeError\u001b[0m                                 Traceback (most recent call last)",
      "Cell \u001b[0;32mIn[75], line 4\u001b[0m\n\u001b[1;32m      1\u001b[0m \u001b[38;5;66;03m#question 8:-Discuss the importance of dictionary keys being immutable and provide examples?\u001b[39;00m\n\u001b[1;32m      2\u001b[0m \u001b[38;5;66;03m#answer      the hashbtable implementation of dictionaries uses a hash table calculated from the key value to find the key,if the\u001b[39;00m\n\u001b[1;32m      3\u001b[0m \u001b[38;5;66;03m#            key were a mutable oblect ,its value could change and this its hash could also change.\u001b[39;00m\n\u001b[0;32m----> 4\u001b[0m mydict\u001b[38;5;241m=\u001b[39m{[\u001b[38;5;241m1\u001b[39m,\u001b[38;5;241m2\u001b[39m]:\u001b[38;5;124m'\u001b[39m\u001b[38;5;124m12\u001b[39m\u001b[38;5;124m'\u001b[39m}\n\u001b[1;32m      5\u001b[0m \u001b[38;5;28mprint\u001b[39m(mydict[\u001b[38;5;241m1\u001b[39m,\u001b[38;5;241m2\u001b[39m])\n",
      "\u001b[0;31mTypeError\u001b[0m: unhashable type: 'list'"
     ]
    }
   ],
   "source": [
    "#question 8:-Discuss the importance of dictionary keys being immutable and provide examples?\n",
    "#answer      the hashbtable implementation of dictionaries uses a hash table calculated from the key value to find the key,if the\n",
    "#            key were a mutable oblect ,its value could change and this its hash could also change.\n",
    "mydict={[1,2]:'12'}\n",
    "print(mydict[1,2])"
   ]
  },
  {
   "cell_type": "code",
   "execution_count": 76,
   "id": "1c1ccd22-8cb8-4aed-8955-fcf012e0e4d6",
   "metadata": {},
   "outputs": [
    {
     "data": {
      "text/plain": [
       "{(1, 2): '12'}"
      ]
     },
     "execution_count": 76,
     "metadata": {},
     "output_type": "execute_result"
    }
   ],
   "source": [
    "#only string and number can be use as a key in dictionary.\n",
    "d={(1,2):'12'}\n",
    "d"
   ]
  },
  {
   "cell_type": "code",
   "execution_count": 1,
   "id": "142ffc58-9f6d-4b8f-9c32-5a6081e05771",
   "metadata": {},
   "outputs": [
    {
     "data": {
      "text/plain": [
       "{True: 'abc'}"
      ]
     },
     "execution_count": 1,
     "metadata": {},
     "output_type": "execute_result"
    }
   ],
   "source": [
    "d1={True:\"abc\"}\n",
    "d1"
   ]
  },
  {
   "cell_type": "code",
   "execution_count": null,
   "id": "44a98436-35ef-4bda-a76a-2b15d166960a",
   "metadata": {},
   "outputs": [],
   "source": []
  }
 ],
 "metadata": {
  "kernelspec": {
   "display_name": "Python 3 (ipykernel)",
   "language": "python",
   "name": "python3"
  },
  "language_info": {
   "codemirror_mode": {
    "name": "ipython",
    "version": 3
   },
   "file_extension": ".py",
   "mimetype": "text/x-python",
   "name": "python",
   "nbconvert_exporter": "python",
   "pygments_lexer": "ipython3",
   "version": "3.10.8"
  }
 },
 "nbformat": 4,
 "nbformat_minor": 5
}
