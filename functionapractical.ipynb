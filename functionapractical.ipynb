{
 "cells": [
  {
   "cell_type": "code",
   "execution_count": 51,
   "id": "b2b4bac4-3a8f-47b3-af8a-ab2c8133035f",
   "metadata": {},
   "outputs": [],
   "source": [
    "#1. Write a Python function that takes a list of numbers as input and returns the sum of all even numbers in \n",
    "#   the list.\n",
    "l=[1,3,2,4,6,5,7]\n",
    "def even_num():\n",
    "    sum=0\n",
    "    for i in l:\n",
    "        if i%2==0:\n",
    "            sum=sum+i\n",
    "    return sum\n",
    "    "
   ]
  },
  {
   "cell_type": "code",
   "execution_count": 52,
   "id": "2a550ae1-d823-431f-9e10-b44bc6e4f436",
   "metadata": {},
   "outputs": [
    {
     "data": {
      "text/plain": [
       "12"
      ]
     },
     "execution_count": 52,
     "metadata": {},
     "output_type": "execute_result"
    }
   ],
   "source": [
    "even_num()"
   ]
  },
  {
   "cell_type": "code",
   "execution_count": 66,
   "id": "5f8be9e0-da9b-4f2a-a116-3bb63b2853b8",
   "metadata": {},
   "outputs": [
    {
     "name": "stdout",
     "output_type": "stream",
     "text": [
      "sllikswp\n"
     ]
    }
   ],
   "source": [
    "#2. Create a Python function that accepts a string and returns the reverse of that string\n",
    "def reverse(s):\n",
    "    str=\"\"\n",
    "    for i in s:\n",
    "        str=i+str\n",
    "    return str\n",
    "s=\"pwskills\"\n",
    "print(reverse(s))\n",
    "    "
   ]
  },
  {
   "cell_type": "code",
   "execution_count": 69,
   "id": "cb23d63c-749a-446e-b8cf-80d71f886249",
   "metadata": {},
   "outputs": [],
   "source": [
    "#3. Implement a Python function that takes a list of integers and returns a new list containing the squares of \n",
    "#each number.\n",
    "list=[1,2,3,4,5]\n",
    "def square():\n",
    "    new_list=[]\n",
    "    for i in list:\n",
    "        new_list.append(i**2)\n",
    "    return new_list\n",
    "        "
   ]
  },
  {
   "cell_type": "code",
   "execution_count": 70,
   "id": "94619fce-7fed-4f43-9728-da8277daa42f",
   "metadata": {},
   "outputs": [
    {
     "data": {
      "text/plain": [
       "[1, 4, 9, 16, 25]"
      ]
     },
     "execution_count": 70,
     "metadata": {},
     "output_type": "execute_result"
    }
   ],
   "source": [
    "square()"
   ]
  },
  {
   "cell_type": "code",
   "execution_count": 81,
   "id": "982b5391-16c2-42ac-bfcf-1c8e6797a5a4",
   "metadata": {},
   "outputs": [],
   "source": [
    "#4. Write a Python function that checks if a given number is prime or not from 1 to 200.\n",
    "\n",
    "\n",
    "def prime(num):\n",
    "    num=int(input(\"enter number between 1 to 200\"))\n",
    "    if num==1:\n",
    "        print(\"number is not prime\")\n",
    "    elif num>1:\n",
    "        for i in range(2,num):\n",
    "            if num%i==0: \n",
    "                print(\"number is not prime\")\n",
    "        else:\n",
    "            print(\"number is  prime\")\n",
    "    else:\n",
    "        print(\"not prime\")"
   ]
  },
  {
   "cell_type": "code",
   "execution_count": 84,
   "id": "02ea58a0-fc07-49a1-a33d-e2819a6eb61c",
   "metadata": {},
   "outputs": [
    {
     "name": "stdin",
     "output_type": "stream",
     "text": [
      "enter number between 1 to 200 1\n"
     ]
    },
    {
     "name": "stdout",
     "output_type": "stream",
     "text": [
      "number is not prime\n"
     ]
    }
   ],
   "source": [
    "prime(num)"
   ]
  },
  {
   "cell_type": "code",
   "execution_count": 33,
   "id": "151be7d8-4cc6-4350-8c52-e50b1c1e07b7",
   "metadata": {},
   "outputs": [],
   "source": [
    "#5. Create an iterator class in Python that generates the Fibonacci sequence up to a specified number of \n",
    "#   terms\n",
    "def fib(n):\n",
    "    a=0\n",
    "    b=1\n",
    "    for i in range(n):\n",
    "        yield a\n",
    "        a,b=b,a+b\n",
    "    \n",
    "    \n",
    "        "
   ]
  },
  {
   "cell_type": "raw",
   "id": "3d8ac1ef-6e9d-4d2c-9a5d-5811a770e5a6",
   "metadata": {},
   "source": [
    "fib(10)"
   ]
  },
  {
   "cell_type": "code",
   "execution_count": 37,
   "id": "39e1860c-ca7c-4bcf-8d6c-d8200efd42ba",
   "metadata": {},
   "outputs": [],
   "source": [
    "f=fib(10)"
   ]
  },
  {
   "cell_type": "code",
   "execution_count": 38,
   "id": "1bbc0b1f-0a58-4659-89e6-244577d42694",
   "metadata": {},
   "outputs": [
    {
     "data": {
      "text/plain": [
       "0"
      ]
     },
     "execution_count": 38,
     "metadata": {},
     "output_type": "execute_result"
    }
   ],
   "source": [
    "next(f)"
   ]
  },
  {
   "cell_type": "code",
   "execution_count": 39,
   "id": "3ed865a1-dce9-44b3-84cf-6a22197d8deb",
   "metadata": {},
   "outputs": [],
   "source": [
    "#6. Write a generator function in Python that yields the powers of 2 up to a given exponent.\n",
    "def exponent(n):\n",
    "    for i in range(n):\n",
    "        yield(2**n)\n",
    "        "
   ]
  },
  {
   "cell_type": "code",
   "execution_count": 42,
   "id": "dbb61904-3565-4aa0-b193-fed7781b43aa",
   "metadata": {},
   "outputs": [],
   "source": [
    "gen=exponent(3)"
   ]
  },
  {
   "cell_type": "code",
   "execution_count": 44,
   "id": "ebe79380-227b-4474-a05b-9f9d14bc2c80",
   "metadata": {},
   "outputs": [
    {
     "data": {
      "text/plain": [
       "8"
      ]
     },
     "execution_count": 44,
     "metadata": {},
     "output_type": "execute_result"
    }
   ],
   "source": [
    "next(gen)"
   ]
  },
  {
   "cell_type": "code",
   "execution_count": 57,
   "id": "2dd516ca-e787-4102-b862-72451ed3440f",
   "metadata": {},
   "outputs": [
    {
     "data": {
      "text/plain": [
       "['ajay', 'data', 'python', 'c lan.']"
      ]
     },
     "execution_count": 57,
     "metadata": {},
     "output_type": "execute_result"
    }
   ],
   "source": [
    "#8. Use a lambda function in Python to sort a list of tuples based on the second element of each tuple.\n",
    "x=[\"ajay\",\"data\",\"python\",\"c lan.\"]\n",
    "le= sorted(x,key=lambda x:len(x))\n",
    "le"
   ]
  },
  {
   "cell_type": "code",
   "execution_count": 3,
   "id": "6b2adc4b-9bdd-4263-94cf-91fa3b50e94c",
   "metadata": {},
   "outputs": [
    {
     "data": {
      "text/plain": [
       "[38, 22, 56]"
      ]
     },
     "execution_count": 3,
     "metadata": {},
     "output_type": "execute_result"
    }
   ],
   "source": [
    "#9. Write a Python program that uses `map()` to convert a list of temperatures from Celsius to Fahrenheit\n",
    "list1= [38,22,56]\n",
    "list1"
   ]
  },
  {
   "cell_type": "code",
   "execution_count": 1,
   "id": "35cf84d5-88b9-425c-9e3d-727f62ae630a",
   "metadata": {},
   "outputs": [
    {
     "data": {
      "text/plain": [
       "104.0"
      ]
     },
     "execution_count": 1,
     "metadata": {},
     "output_type": "execute_result"
    }
   ],
   "source": [
    "def farnheit(x):\n",
    "    return (x*1.8)+32\n",
    "farnheit(40)\n"
   ]
  },
  {
   "cell_type": "code",
   "execution_count": 8,
   "id": "d861781f-fc00-4f13-8e71-aaebb6056bd3",
   "metadata": {},
   "outputs": [
    {
     "data": {
      "text/plain": [
       "<map at 0x73e106d68cd0>"
      ]
     },
     "execution_count": 8,
     "metadata": {},
     "output_type": "execute_result"
    }
   ],
   "source": [
    "map(farnheit,list1)\n"
   ]
  },
  {
   "cell_type": "code",
   "execution_count": 11,
   "id": "636ec603-9d88-4e80-9812-6a21a82a72c4",
   "metadata": {},
   "outputs": [
    {
     "data": {
      "text/plain": [
       "<filter at 0x73e106d117e0>"
      ]
     },
     "execution_count": 11,
     "metadata": {},
     "output_type": "execute_result"
    }
   ],
   "source": [
    "#10. Create a Python program that uses `filter()` to remove all the vowels from a given string\n",
    "s=\"pwskills\"\n",
    "vowel=[\"a\",\"e\",\"i\",\"o\",\"u\"]\n",
    "filter(lambda x:x not in vowel,s)"
   ]
  },
  {
   "cell_type": "code",
   "execution_count": 15,
   "id": "dac625b8-20a4-4b06-a6b0-e17a7f9424c3",
   "metadata": {},
   "outputs": [
    {
     "data": {
      "text/plain": [
       "[['order number', 'book title and author', 'quantity', 'price per item'],\n",
       " ['34587', 'learning python,mark lutz', 4, 40.95],\n",
       " ['98762', 'programming python,mark lutz', 5, 56.8],\n",
       " ['77226', 'head first python,paul barry', 3, 32.95],\n",
       " ['88112', 'einfhurung in python3,brend klein', 3, 24.99]]"
      ]
     },
     "execution_count": 15,
     "metadata": {},
     "output_type": "execute_result"
    }
   ],
   "source": [
    "#question 11 ) Imagine an accounting routine used in a book shop. It works on a list with sublists, which look like this:\n",
    "\n",
    "\n",
    "\n",
    "\n",
    "\n",
    "\n",
    "\n",
    "#Write a Python program, which returns a list with 2-tuples. Each tuple consists of the order number and the \n",
    "#product of the price per item and the quantity. The product should be increased by 10,- € if the value of the \n",
    "#order is smaller than 100,00 €.\n",
    "\n",
    "#Write a Python program using lambda and map\n",
    "from functools import reduce\n",
    "orders= [[\"order number\",\"book title and author\",\"quantity\",\"price per item\"],[\"34587\",\"learning python,mark lutz\"    ,4,40.95],[\"98762\",\"programming python,mark lutz\"     ,5,56.80],[\"77226\",\"head first python,paul barry\"    ,3,32.95],[\"88112\",\"einfhurung in python3,brend klein\",3,24.99]]\n",
    "orders"
   ]
  },
  {
   "cell_type": "code",
   "execution_count": 17,
   "id": "5a5bcee7-8849-412c-877d-af8f1d02e9fb",
   "metadata": {},
   "outputs": [
    {
     "data": {
      "text/plain": [
       "<map at 0x73e106d130a0>"
      ]
     },
     "execution_count": 17,
     "metadata": {},
     "output_type": "execute_result"
    }
   ],
   "source": [
    "invoice_total=map(lambda x:x if x[1]>=min_order else (x[0],x[1],+10),map(lambda x:(x[0],x[2]*x[3]),orders))\n",
    "invoice_total"
   ]
  },
  {
   "cell_type": "code",
   "execution_count": null,
   "id": "7bbdf328-0085-4d6b-9969-e711e2a24fd5",
   "metadata": {},
   "outputs": [],
   "source": []
  }
 ],
 "metadata": {
  "kernelspec": {
   "display_name": "Python 3 (ipykernel)",
   "language": "python",
   "name": "python3"
  },
  "language_info": {
   "codemirror_mode": {
    "name": "ipython",
    "version": 3
   },
   "file_extension": ".py",
   "mimetype": "text/x-python",
   "name": "python",
   "nbconvert_exporter": "python",
   "pygments_lexer": "ipython3",
   "version": "3.10.8"
  }
 },
 "nbformat": 4,
 "nbformat_minor": 5
}
