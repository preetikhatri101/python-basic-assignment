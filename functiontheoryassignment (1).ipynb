{
 "cells": [
  {
   "cell_type": "code",
   "execution_count": 1,
   "id": "a7b3fb11-7540-40ec-8d74-814869e8f558",
   "metadata": {},
   "outputs": [
    {
     "name": "stdout",
     "output_type": "stream",
     "text": [
      "welcome\n"
     ]
    }
   ],
   "source": [
    "#question 1.  What is the difference between a function and a method in Python?\n",
    "#answer       functions are independent blocks of code that can be called from anywhere,while methods are tied to objectsand need an object\n",
    "#             to be invoked.functions are called by name,whilemethods are accessed using dot notation.\n",
    "#examples   \n",
    "def first_function():\n",
    "    print(\"welcome\")\n",
    "first_function()"
   ]
  },
  {
   "cell_type": "code",
   "execution_count": 3,
   "id": "2a0a7c54-3303-4374-89be-539d6cceb8c0",
   "metadata": {},
   "outputs": [
    {
     "name": "stdout",
     "output_type": "stream",
     "text": [
      "i an preeti\n"
     ]
    }
   ],
   "source": [
    "class employee():\n",
    "    def my_method(self):\n",
    "        print(\"i am preeti\")\n",
    "name=employee()\n",
    "name.my_method()    "
   ]
  },
  {
   "cell_type": "code",
   "execution_count": 9,
   "id": "5ee60084-fbdc-4379-b83d-caf15055fdf9",
   "metadata": {},
   "outputs": [
    {
     "data": {
      "text/plain": [
       "3"
      ]
     },
     "execution_count": 9,
     "metadata": {},
     "output_type": "execute_result"
    }
   ],
   "source": [
    "#question 2:  Explain the concept of function arguments and parameters in Python.\n",
    "# answer      A parameter is the variable defined with in the parenthesis durinf function definition \n",
    "#             an argument is a value that is passed to a function when it is called\n",
    "#example\n",
    "def sum(a,b):# parameter\n",
    "    return a+b\n",
    "sum(1,2) #argument"
   ]
  },
  {
   "cell_type": "code",
   "execution_count": 10,
   "id": "60de3ba1-7ac5-4f41-94fe-89da774434b8",
   "metadata": {},
   "outputs": [
    {
     "name": "stdout",
     "output_type": "stream",
     "text": [
      "welcome to pythom\n"
     ]
    }
   ],
   "source": [
    "#question 3: . What are the different ways to define and call a function in Python?\n",
    "#             syntax:    def function_name(parameters):\n",
    "#                             #statements\n",
    "#                          return expression\n",
    "#examples:\n",
    "def fun():                             #simple python function\n",
    "    print(\"welcome to pythom\")\n",
    "fun()\n"
   ]
  },
  {
   "cell_type": "code",
   "execution_count": 11,
   "id": "99833df0-fbc2-4328-a64d-2894bf3f79c9",
   "metadata": {},
   "outputs": [
    {
     "data": {
      "text/plain": [
       "25"
      ]
     },
     "execution_count": 11,
     "metadata": {},
     "output_type": "execute_result"
    }
   ],
   "source": [
    "#function with parameter\n",
    "def square(a):\n",
    "    return a*a\n",
    "square(5)"
   ]
  },
  {
   "cell_type": "code",
   "execution_count": null,
   "id": "b3a2aa46-b74c-4d12-b1e8-a2267d75e4a6",
   "metadata": {},
   "outputs": [],
   "source": [
    "#question 4: . What is the purpose of the `return` statement in a Python function?\n",
    "#answer        python statement marks the end of a function and specifies the value to pass back from the function.return statement\n",
    "#              can return data of any type including int, float, string and even other function.\n",
    "#        def function_name(p1, p2):\n",
    "#            function body\n",
    "#        return return_value"
   ]
  },
  {
   "cell_type": "code",
   "execution_count": 1,
   "id": "2c86abff-88a9-43ee-88b9-d662629098b0",
   "metadata": {},
   "outputs": [
    {
     "data": {
      "text/plain": [
       "'p'"
      ]
     },
     "execution_count": 1,
     "metadata": {},
     "output_type": "execute_result"
    }
   ],
   "source": [
    "#question 5. What are iterators in Python and how do they differ from iterables?\n",
    "#answer      iterator is an object representing a stream of data means return the data one by one. where iterables is an python object that \n",
    "#            is capable of returning its members one at a time.\n",
    "# example    potato(iterable) ---> can not be cooked in original form\n",
    "#            chop/wash the potato(itretor) ---->ready for cooking\n",
    "s=\"pwskills\"\n",
    "a=iter(s)   #return iterator object\n",
    "next(a)"
   ]
  },
  {
   "cell_type": "code",
   "execution_count": 4,
   "id": "5c3f5ba6-9de7-4dad-8135-2bee43287ce3",
   "metadata": {},
   "outputs": [],
   "source": [
    "#question 6. Explain the concept of generators in Python and how they are defined.\n",
    "#answer      A generator function in python is defined like a normal function ,but whenever it needs to generate a value,it does so with \n",
    "#            \"yield\" keyword rather than return, if the body of a def contain yield, the function automaticallybecomes a python generator\n",
    "#            function\n",
    "#  syntax       def function_name():\n",
    "#                   yield statement\n",
    "\n",
    "\n",
    "def square(n):\n",
    "    for i in range(n):\n",
    "        yield(i**2)\n",
    "gen=square(5)"
   ]
  },
  {
   "cell_type": "code",
   "execution_count": null,
   "id": "3d49c26d-87b7-48cb-ae19-b0b17fac9ac1",
   "metadata": {},
   "outputs": [],
   "source": []
  },
  {
   "cell_type": "code",
   "execution_count": 5,
   "id": "aebca5c7-c07b-46f8-a7bb-27351e7c3dc7",
   "metadata": {},
   "outputs": [
    {
     "data": {
      "text/plain": [
       "0"
      ]
     },
     "execution_count": 5,
     "metadata": {},
     "output_type": "execute_result"
    }
   ],
   "source": [
    "next(gen)"
   ]
  },
  {
   "cell_type": "code",
   "execution_count": 6,
   "id": "6809668f-8abf-4a99-beda-d2d5aab0e656",
   "metadata": {},
   "outputs": [
    {
     "data": {
      "text/plain": [
       "1"
      ]
     },
     "execution_count": 6,
     "metadata": {},
     "output_type": "execute_result"
    }
   ],
   "source": [
    "next(gen)"
   ]
  },
  {
   "cell_type": "code",
   "execution_count": 16,
   "id": "1aa7f04d-1a5c-478d-b392-a5b1c5f45919",
   "metadata": {},
   "outputs": [
    {
     "data": {
      "text/plain": [
       "121"
      ]
     },
     "execution_count": 16,
     "metadata": {},
     "output_type": "execute_result"
    }
   ],
   "source": [
    "#question 7. What are the advantages of using generators over regular functions?\n",
    "#answer      In regular function calculations done an return in one go since memory usages will be more and it will be a lot of execution \n",
    "#            time. where generator are more efficient than functions as they produce values at a time instead of storing them in memory \n",
    "#            returning them.\n",
    "def square(a):\n",
    "    return(a*a)\n",
    "\n",
    "square(11)"
   ]
  },
  {
   "cell_type": "code",
   "execution_count": 17,
   "id": "f8fd0635-b8e0-4808-9934-d8c3ae87426c",
   "metadata": {},
   "outputs": [
    {
     "data": {
      "text/plain": [
       "0"
      ]
     },
     "execution_count": 17,
     "metadata": {},
     "output_type": "execute_result"
    }
   ],
   "source": [
    "def square(n):\n",
    "    for i in range(n):\n",
    "        yield(i**2)\n",
    "gen=square(5)\n",
    "next(gen)"
   ]
  },
  {
   "cell_type": "code",
   "execution_count": 18,
   "id": "afbd7ba6-566b-4465-a34f-d281f9eebc26",
   "metadata": {},
   "outputs": [
    {
     "data": {
      "text/plain": [
       "1"
      ]
     },
     "execution_count": 18,
     "metadata": {},
     "output_type": "execute_result"
    }
   ],
   "source": [
    "next(gen)"
   ]
  },
  {
   "cell_type": "code",
   "execution_count": 21,
   "id": "3f547af8-fffa-4672-a61e-7a9ad6a63413",
   "metadata": {},
   "outputs": [
    {
     "data": {
      "text/plain": [
       "25"
      ]
     },
     "execution_count": 21,
     "metadata": {},
     "output_type": "execute_result"
    }
   ],
   "source": [
    "#question: 8. What is a lambda function in Python and when is it typically used?\n",
    "#answer       lamda function is anonymous function means that the function is without a name or it is also called short hand function.\n",
    "#   syntax   lambda arguments:expression\n",
    "square=lambda x:x**2\n",
    "square(5)"
   ]
  },
  {
   "cell_type": "code",
   "execution_count": 30,
   "id": "59cc9062-97be-4353-9e83-fdfab57309f1",
   "metadata": {},
   "outputs": [],
   "source": [
    "#question: 9. Explain the purpose and usage of the `map()` function in Python.\n",
    "#answer       map executes a specified function for each of item of an iterable(tuple,list)\n",
    "#syntax     map(func,*iterable)\n",
    "l=[1,2,3,4,5]\n",
    "def square(x):\n",
    "    return x**2"
   ]
  },
  {
   "cell_type": "code",
   "execution_count": 31,
   "id": "aefba396-2c9c-46b5-9b92-82986c849e7d",
   "metadata": {},
   "outputs": [
    {
     "data": {
      "text/plain": [
       "[1, 2, 3, 4, 5]"
      ]
     },
     "execution_count": 31,
     "metadata": {},
     "output_type": "execute_result"
    }
   ],
   "source": [
    "l"
   ]
  },
  {
   "cell_type": "code",
   "execution_count": 32,
   "id": "f6fe9897-1478-4ab4-b328-4a135ff62071",
   "metadata": {},
   "outputs": [
    {
     "data": {
      "text/plain": [
       "[1, 4, 9, 16, 25]"
      ]
     },
     "execution_count": 32,
     "metadata": {},
     "output_type": "execute_result"
    }
   ],
   "source": [
    "list(map(square, l))"
   ]
  },
  {
   "cell_type": "markdown",
   "id": "9dc2868e-598a-4533-a164-656a6416e073",
   "metadata": {},
   "source": []
  },
  {
   "cell_type": "code",
   "execution_count": 33,
   "id": "65a29151-41c5-429f-8c58-e73e7a4b6241",
   "metadata": {},
   "outputs": [
    {
     "data": {
      "text/plain": [
       "[11, 12, 13, 14, 15]"
      ]
     },
     "execution_count": 33,
     "metadata": {},
     "output_type": "execute_result"
    }
   ],
   "source": [
    "#question 10. What is the difference between `map()`, `reduce()`, and `filter()` functions in Python?\n",
    "#answer       map function executes a specified function for each of item of an iterable\n",
    "l=[1,2,3,4,5]\n",
    "def add(x):\n",
    "    return x+10\n",
    "list(map(add, l))"
   ]
  },
  {
   "cell_type": "code",
   "execution_count": 36,
   "id": "e24d98f5-f060-494e-a083-2a68af215bad",
   "metadata": {},
   "outputs": [
    {
     "data": {
      "text/plain": [
       "28"
      ]
     },
     "execution_count": 36,
     "metadata": {},
     "output_type": "execute_result"
    }
   ],
   "source": [
    "#reduce if used for folding or reduction.it is used to apply a particular function passed in the argument to all of the list element.\n",
    "#it is import from functools.\n",
    "l=[1,4,3,6,5,7,2]\n",
    "from functools import reduce\n",
    "reduce(lambda x,y:x+y, l)"
   ]
  },
  {
   "cell_type": "code",
   "execution_count": 37,
   "id": "9854ddac-92c8-4c5b-ba7e-aa500d86c01f",
   "metadata": {},
   "outputs": [
    {
     "data": {
      "text/plain": [
       "[1, 4, 3, 6, 5, 7, 2]"
      ]
     },
     "execution_count": 37,
     "metadata": {},
     "output_type": "execute_result"
    }
   ],
   "source": [
    "#filter is used to filter elements from an iterable based on some condition\n",
    "#syntax   filter(functiom, iterable)\n",
    "l"
   ]
  },
  {
   "cell_type": "code",
   "execution_count": 38,
   "id": "8ff0bf88-1855-411d-b0cd-568e83685515",
   "metadata": {},
   "outputs": [
    {
     "data": {
      "text/plain": [
       "[4, 6, 2]"
      ]
     },
     "execution_count": 38,
     "metadata": {},
     "output_type": "execute_result"
    }
   ],
   "source": [
    "list(filter(lambda x:x%2==0, l))"
   ]
  },
  {
   "cell_type": "code",
   "execution_count": null,
   "id": "685d0506-bf40-4c48-8bad-16bfcd0428c5",
   "metadata": {},
   "outputs": [],
   "source": []
  }
 ],
 "metadata": {
  "kernelspec": {
   "display_name": "Python 3 (ipykernel)",
   "language": "python",
   "name": "python3"
  },
  "language_info": {
   "codemirror_mode": {
    "name": "ipython",
    "version": 3
   },
   "file_extension": ".py",
   "mimetype": "text/x-python",
   "name": "python",
   "nbconvert_exporter": "python",
   "pygments_lexer": "ipython3",
   "version": "3.10.8"
  }
 },
 "nbformat": 4,
 "nbformat_minor": 5
}
