{
 "cells": [
  {
   "cell_type": "code",
   "execution_count": null,
   "id": "7f460bd0-b70b-408e-a596-bcd652e4bd99",
   "metadata": {},
   "outputs": [],
   "source": [
    "#question 1. Explain the purpose and advantages of NumPy in scientific computing and data analysis. How does it \n",
    "#            enhance Python's capabilities for numerical operations?\n",
    "#answer      in python we have lists that serve the purpose of arrays but they are slow to process. numPy aims to provide an array object that is upto\n",
    "#            50X faster than list. \n",
    "#             advantages:- 1. performance\n",
    "#                          2. memory efficiency\n",
    "#                          3.extensive mathematical functions\n",
    "#                          4.interoperability\n",
    "#            array creation,mathematical operations,array indexing and slicing,broadcasting are the features that enhance python capabilities for \n",
    "#            numerical operations.\n"
   ]
  },
  {
   "cell_type": "code",
   "execution_count": 7,
   "id": "aed5a8ac-772c-4a70-8b1c-8b4f16abd1bb",
   "metadata": {},
   "outputs": [
    {
     "data": {
      "text/plain": [
       "array([ 1,  2,  3,  4,  5,  6,  7,  8,  9, 10])"
      ]
     },
     "execution_count": 7,
     "metadata": {},
     "output_type": "execute_result"
    }
   ],
   "source": [
    "#question 2. Compare and contrast np.mean() and np.average() functions in NumPy. When would you use one over the \n",
    "#            other?\n",
    "#answer      np.mean() is used to calculate arithmatic mean whereas np.average is used to calculated mean as well as weighted average.\n",
    "#            weight can not be passed through the parameter of given function, weight can  be passed through the parameter of given function\n",
    "import numpy as np\n",
    "arr= np.array([1,2,3,4,5,6,7,8,9,10])\n",
    "arr"
   ]
  },
  {
   "cell_type": "code",
   "execution_count": 8,
   "id": "640c1d98-c5f7-4a67-8a9c-f4ee543cd1bc",
   "metadata": {},
   "outputs": [
    {
     "data": {
      "text/plain": [
       "5.5"
      ]
     },
     "execution_count": 8,
     "metadata": {},
     "output_type": "execute_result"
    }
   ],
   "source": [
    "np.mean(arr)"
   ]
  },
  {
   "cell_type": "code",
   "execution_count": 11,
   "id": "b519c896-c80c-4467-ab88-5b1006d42c86",
   "metadata": {},
   "outputs": [
    {
     "data": {
      "text/plain": [
       "array([ 4,  5,  6, 12, 15, 10,  2,  8, 19, 20])"
      ]
     },
     "execution_count": 11,
     "metadata": {},
     "output_type": "execute_result"
    }
   ],
   "source": [
    "weight=np.array([4,5,6,12,15,10,2,8,19,20])\n",
    "weight"
   ]
  },
  {
   "cell_type": "code",
   "execution_count": 12,
   "id": "bcf52298-02b1-4659-8187-a57cb6fe8aa9",
   "metadata": {},
   "outputs": [
    {
     "data": {
      "text/plain": [
       "10.1"
      ]
     },
     "execution_count": 12,
     "metadata": {},
     "output_type": "execute_result"
    }
   ],
   "source": [
    "np.average(weight)"
   ]
  },
  {
   "cell_type": "code",
   "execution_count": 17,
   "id": "3c472f0d-d7f1-44c5-8dba-3eb4b993b319",
   "metadata": {},
   "outputs": [
    {
     "data": {
      "text/plain": [
       "array([1, 2, 3, 4, 5])"
      ]
     },
     "execution_count": 17,
     "metadata": {},
     "output_type": "execute_result"
    }
   ],
   "source": [
    "#question 3. Describe the methods for reversing a NumPy array along different axes. Provide examples for 1D and 2D \n",
    "#            arrays?\n",
    "a= np.array([1,2,3,4,5])\n",
    "a"
   ]
  },
  {
   "cell_type": "code",
   "execution_count": 24,
   "id": "f1c3e42c-6777-4409-9faf-70828b20c932",
   "metadata": {},
   "outputs": [
    {
     "data": {
      "text/plain": [
       "array([5, 4, 3, 2, 1])"
      ]
     },
     "execution_count": 24,
     "metadata": {},
     "output_type": "execute_result"
    }
   ],
   "source": [
    "b=np.flip(a, axis=0)\n",
    "b"
   ]
  },
  {
   "cell_type": "code",
   "execution_count": 25,
   "id": "0060e90b-bbec-4f16-a81f-6869f40a4627",
   "metadata": {},
   "outputs": [],
   "source": [
    "c=np.array([[1,2],[2,3],[4,5]])"
   ]
  },
  {
   "cell_type": "code",
   "execution_count": 26,
   "id": "489180a5-0235-4317-80fc-7e1e6ab9f7ce",
   "metadata": {},
   "outputs": [
    {
     "data": {
      "text/plain": [
       "array([[1, 2],\n",
       "       [2, 3],\n",
       "       [4, 5]])"
      ]
     },
     "execution_count": 26,
     "metadata": {},
     "output_type": "execute_result"
    }
   ],
   "source": [
    "c"
   ]
  },
  {
   "cell_type": "code",
   "execution_count": 28,
   "id": "c076640c-9b83-4ca9-8725-eefdbd359cd1",
   "metadata": {},
   "outputs": [
    {
     "data": {
      "text/plain": [
       "array([[4, 5],\n",
       "       [2, 3],\n",
       "       [1, 2]])"
      ]
     },
     "execution_count": 28,
     "metadata": {},
     "output_type": "execute_result"
    }
   ],
   "source": [
    "d=np.flip(c,axis =0)\n",
    "d"
   ]
  },
  {
   "cell_type": "code",
   "execution_count": 30,
   "id": "b5b35f59-4557-4370-ac58-c7ab8438f993",
   "metadata": {},
   "outputs": [
    {
     "data": {
      "text/plain": [
       "array([1, 2, 3, 4, 5])"
      ]
     },
     "execution_count": 30,
     "metadata": {},
     "output_type": "execute_result"
    }
   ],
   "source": [
    "#question 4:-  How can you determine the data type of elements in a NumPy array? Discuss the importance of data types \n",
    "#              in memory management and performance?\n",
    "#answer        datatype in numPy is used to specify the type of data stored in variable.\n",
    "arr1=np.array([1,2,3,4,5])\n",
    "arr1"
   ]
  },
  {
   "cell_type": "code",
   "execution_count": 31,
   "id": "d84d4efa-2d36-42af-86f1-2ac12fa3f0bd",
   "metadata": {},
   "outputs": [
    {
     "data": {
      "text/plain": [
       "numpy.ndarray"
      ]
     },
     "execution_count": 31,
     "metadata": {},
     "output_type": "execute_result"
    }
   ],
   "source": [
    "type(arr1)"
   ]
  },
  {
   "cell_type": "code",
   "execution_count": 33,
   "id": "7958389a-6d7c-41d4-bf1f-22ab7b995b81",
   "metadata": {},
   "outputs": [
    {
     "data": {
      "text/plain": [
       "1"
      ]
     },
     "execution_count": 33,
     "metadata": {},
     "output_type": "execute_result"
    }
   ],
   "source": [
    "arr1.ndim"
   ]
  },
  {
   "cell_type": "code",
   "execution_count": null,
   "id": "95f2fcf0-4ac3-4026-a9ec-935d0b582789",
   "metadata": {},
   "outputs": [],
   "source": [
    "c=np.array([[1,2],[2,3],[4,5]])"
   ]
  },
  {
   "cell_type": "code",
   "execution_count": 34,
   "id": "1d4e9682-04c1-4040-8301-a4cd0ed43c3a",
   "metadata": {},
   "outputs": [
    {
     "data": {
      "text/plain": [
       "numpy.ndarray"
      ]
     },
     "execution_count": 34,
     "metadata": {},
     "output_type": "execute_result"
    }
   ],
   "source": [
    "type(c)"
   ]
  },
  {
   "cell_type": "code",
   "execution_count": null,
   "id": "68ee67b4-05eb-4ef6-a85d-965de824be11",
   "metadata": {},
   "outputs": [],
   "source": [
    "#datatype are crucial inprogramming because they help to enforce code reliabilityand efficiency.they allow the compiler \n",
    "#to allocate the right amount of memoryfor the data and perform the correct operation on it."
   ]
  },
  {
   "cell_type": "code",
   "execution_count": 35,
   "id": "f52b9769-4ea8-448e-8bfd-5f185955b9f1",
   "metadata": {},
   "outputs": [
    {
     "data": {
      "text/plain": [
       "[1, 2, 3.5, 'preeti', True]"
      ]
     },
     "execution_count": 35,
     "metadata": {},
     "output_type": "execute_result"
    }
   ],
   "source": [
    "#question 5:- Define ndarrays in NumPy and explain their key features. How do they differ from standard Python lists?\n",
    "#answer       An ndarray is a multi dimensional array of items of same type and size.an ndarray has an associated data type object which specifies\n",
    "#             the dtype stored in the ndarray\n",
    "#             list are heterogrneous in nateure but ndarrays are homogeneous in nature\n",
    "lis=[1,2,3.5,\"preeti\",True]\n",
    "lis"
   ]
  },
  {
   "cell_type": "code",
   "execution_count": 37,
   "id": "73838b32-a68d-44c9-80d8-776afa40edd8",
   "metadata": {},
   "outputs": [
    {
     "data": {
      "text/plain": [
       "array([1, 2, 3, 4])"
      ]
     },
     "execution_count": 37,
     "metadata": {},
     "output_type": "execute_result"
    }
   ],
   "source": [
    "ar=np.array([1,2,3,4])\n",
    "ar"
   ]
  },
  {
   "cell_type": "code",
   "execution_count": null,
   "id": "59ffc0c0-f18d-44f3-b49d-872ff4f569b2",
   "metadata": {},
   "outputs": [],
   "source": [
    "#question 6:- . Analyze the performance benefits of NumPy arrays over Python lists for large-scale numerical operations?\n",
    "#answer         in data science ,efficency and speed are paramount. NumPy which stands for numerical python offers significant advantages over \n",
    "#               traditional lists for data manipulation and processing. it has a powerful library,that provides an array object much more suited\n",
    "#               for numerical data. numpy arrays are designed to handle large data set efficiently and with a much lower memory footprint. when \n",
    "#               you are dealing with masive datasets  as is often the case in data science,this efficiency can make a world of difference in terms\n",
    "#               of performance and scalability."
   ]
  },
  {
   "cell_type": "code",
   "execution_count": 38,
   "id": "b59cfe8a-3fd8-43eb-a6f2-91131cb06e68",
   "metadata": {},
   "outputs": [
    {
     "data": {
      "text/plain": [
       "array([1, 2, 3, 4, 5])"
      ]
     },
     "execution_count": 38,
     "metadata": {},
     "output_type": "execute_result"
    }
   ],
   "source": [
    "#question 7:-  Compare vstack() and hstack() functions in NumPy. Provide examples demonstrating their usage and output?\n",
    "#answer        numpy vstack and hstack are the tools for combining numpy array together.numpy hstack combines array horizontally and numpy vstack\n",
    "#              combines array vertically\n",
    "arr1=np.array([1,2,3,4,5])\n",
    "arr2=np.array([4,5,7,8,9])\n",
    "arr1"
   ]
  },
  {
   "cell_type": "raw",
   "id": "d32ba97b-04ef-4757-bad4-01670e2f9e78",
   "metadata": {},
   "source": []
  },
  {
   "cell_type": "code",
   "execution_count": 41,
   "id": "b3c13f35-06bb-4c32-86bb-77889a7e6113",
   "metadata": {},
   "outputs": [
    {
     "data": {
      "text/plain": [
       "array([1, 2, 3, 4, 5, 4, 5, 7, 8, 9])"
      ]
     },
     "execution_count": 41,
     "metadata": {},
     "output_type": "execute_result"
    }
   ],
   "source": [
    "arr=np.hstack((arr1,arr2))\n",
    "arr"
   ]
  },
  {
   "cell_type": "code",
   "execution_count": 42,
   "id": "2735d5fc-7e3a-495a-b350-2719023d0da9",
   "metadata": {},
   "outputs": [
    {
     "data": {
      "text/plain": [
       "array([[1, 2, 3, 4, 5],\n",
       "       [4, 5, 7, 8, 9]])"
      ]
     },
     "execution_count": 42,
     "metadata": {},
     "output_type": "execute_result"
    }
   ],
   "source": [
    "arr3=np.vstack((arr1,arr2))\n",
    "arr3"
   ]
  },
  {
   "cell_type": "code",
   "execution_count": 43,
   "id": "74ec2c73-76cb-485f-a95f-8ae1faa41ee8",
   "metadata": {},
   "outputs": [
    {
     "data": {
      "text/plain": [
       "array([[1, 2],\n",
       "       [2, 3],\n",
       "       [3, 4],\n",
       "       [5, 6]])"
      ]
     },
     "execution_count": 43,
     "metadata": {},
     "output_type": "execute_result"
    }
   ],
   "source": [
    "#question 8:-  Explain the differences between fliplr() and flipud() methods in NumPy, including their effects on various \n",
    "#              array dimensions?\n",
    "#answer        numpy.fliplr(array) : Flip array(entries in each column) in left-right direction\n",
    "arr1=np.array([[1,2],[2,3],[3,4],[5,6]])\n",
    "arr1"
   ]
  },
  {
   "cell_type": "code",
   "execution_count": 44,
   "id": "100fd0de-546e-490a-b618-4b036b0f58cd",
   "metadata": {},
   "outputs": [
    {
     "data": {
      "text/plain": [
       "array([[2, 1],\n",
       "       [3, 2],\n",
       "       [4, 3],\n",
       "       [6, 5]])"
      ]
     },
     "execution_count": 44,
     "metadata": {},
     "output_type": "execute_result"
    }
   ],
   "source": [
    "np.fliplr(arr1)"
   ]
  },
  {
   "cell_type": "code",
   "execution_count": 46,
   "id": "cda9585f-6606-4059-935b-891e2874b45e",
   "metadata": {},
   "outputs": [
    {
     "data": {
      "text/plain": [
       "array([[1, 2, 3],\n",
       "       [2, 3, 4],\n",
       "       [4, 5, 6]])"
      ]
     },
     "execution_count": 46,
     "metadata": {},
     "output_type": "execute_result"
    }
   ],
   "source": [
    "# flipud:-  Reverse the order of elements along axis 0 (up/down).\n",
    "arr2=np.array([[1,2,3],[2,3,4],[4,5,6]])\n",
    "arr2"
   ]
  },
  {
   "cell_type": "code",
   "execution_count": 47,
   "id": "3580a423-8923-493b-ad41-c0e9f9bebdf6",
   "metadata": {},
   "outputs": [
    {
     "data": {
      "text/plain": [
       "array([[4, 5, 6],\n",
       "       [2, 3, 4],\n",
       "       [1, 2, 3]])"
      ]
     },
     "execution_count": 47,
     "metadata": {},
     "output_type": "execute_result"
    }
   ],
   "source": [
    "np.flipud(arr2)"
   ]
  },
  {
   "cell_type": "code",
   "execution_count": 49,
   "id": "9546da41-6f02-441b-9383-323e5982412a",
   "metadata": {},
   "outputs": [
    {
     "data": {
      "text/plain": [
       "array([1, 2, 3, 4, 5, 6])"
      ]
     },
     "execution_count": 49,
     "metadata": {},
     "output_type": "execute_result"
    }
   ],
   "source": [
    "#question 9:-  Discuss the functionality of the array_split() method in NumPy. How does it handle uneven splits?\n",
    "#answer      \n",
    "arr=np.array([1,2,3,4,5,6])\n",
    "arr"
   ]
  },
  {
   "cell_type": "code",
   "execution_count": 51,
   "id": "db40474b-9586-4bc0-989f-7dca9ba2c4d1",
   "metadata": {},
   "outputs": [
    {
     "data": {
      "text/plain": [
       "[array([1, 2]), array([3, 4]), array([5, 6])]"
      ]
     },
     "execution_count": 51,
     "metadata": {},
     "output_type": "execute_result"
    }
   ],
   "source": [
    "np.array_split(arr,3)"
   ]
  },
  {
   "cell_type": "code",
   "execution_count": null,
   "id": "1dfb2c72-b361-41ae-b2a1-b51053416e93",
   "metadata": {},
   "outputs": [],
   "source": [
    "#numpy.array_split() splitting into equal or nearly equal sub-arrays or is similar to numpy.split(), \n",
    "#but it allows for uneven splitting of arrays. This is useful when the array cannot be evenly divided by the specified number of splits.\n",
    "#numpy.array_split(array, 4) splits the array into four parts, accommodating the uneven division."
   ]
  },
  {
   "cell_type": "code",
   "execution_count": 52,
   "id": "3ea9fe67-cec1-412a-b7e6-45f5bf774e00",
   "metadata": {},
   "outputs": [
    {
     "data": {
      "text/plain": [
       "array([450, 350,   0,  30])"
      ]
     },
     "execution_count": 52,
     "metadata": {},
     "output_type": "execute_result"
    }
   ],
   "source": [
    "#question 10:- Explain the concepts of vectorization and broadcasting in NumPy. How do they contribute to efficient array \n",
    "#              operations?\n",
    "#answer        The term broadcasting refers to the ability of NumPy to treat arrays with different dimensions during arithmetic operations. \n",
    "#              This process involves certain rules that allow the smaller array to be ‘broadcast’ across the larger one,\n",
    "#              ensuring that they have compatible shapes for these operations.\n",
    "#              Broadcasting is not limited to two arrays; it can be applied over multiple arrays as well.\n",
    "#              Broadcasting provides a means of vectorizing array operations, therefore eliminating the need for Python loops. \n",
    "#              This is because NumPy is implemented in C Programming, which is a very efficient language.\n",
    "a = np.array([5, 7, 3, 1]) \n",
    "b = np.array([90, 50, 0, 30]) \n",
    "c=a*b\n",
    "c"
   ]
  },
  {
   "cell_type": "code",
   "execution_count": null,
   "id": "9e68b83b-caa9-4b33-acc3-e9a3f3fa99e4",
   "metadata": {},
   "outputs": [],
   "source": []
  }
 ],
 "metadata": {
  "kernelspec": {
   "display_name": "Python 3 (ipykernel)",
   "language": "python",
   "name": "python3"
  },
  "language_info": {
   "codemirror_mode": {
    "name": "ipython",
    "version": 3
   },
   "file_extension": ".py",
   "mimetype": "text/x-python",
   "name": "python",
   "nbconvert_exporter": "python",
   "pygments_lexer": "ipython3",
   "version": "3.10.8"
  }
 },
 "nbformat": 4,
 "nbformat_minor": 5
}
