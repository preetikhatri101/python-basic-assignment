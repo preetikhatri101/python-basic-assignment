{
 "cells": [
  {
   "cell_type": "code",
   "execution_count": null,
   "metadata": {},
   "outputs": [],
   "source": [
    "#1. What are the five key concepts of Object-Oriented Programming (OOP)?\n",
    "#In Python object-oriented Programming (OOPs) is a programming paradigm that uses objects and classes in programming. \n",
    "# It aims to implement real-world entities like inheritance, polymorphisms, encapsulation, etc. in the programming. \n",
    "# The main concept of object-oriented Programming (OOPs) or oops concepts in Python is to bind the data and the functions\n",
    "#  that work together as a single unit so that no other part of the code can access this data. \n",
    "#key concept are:\n",
    "#Class in Python\n",
    "#Objects in Python\n",
    "#Polymorphism in Python\n",
    "#Encapsulation in Python\n",
    "#Inheritance in Python\n",
    "#Data Abstraction in Python"
   ]
  },
  {
   "cell_type": "code",
   "execution_count": 16,
   "metadata": {},
   "outputs": [
    {
     "name": "stdout",
     "output_type": "stream",
     "text": [
      "a b 2023\n"
     ]
    }
   ],
   "source": [
    "#2. Write a Python class for a `Car` with attributes for `make`, `model`, and `year`. Include a method to display \n",
    "#the car's information.\n",
    "\n",
    "class car:\n",
    "    def __init__(self,make,model,year):\n",
    "        self.make=make\n",
    "        self.model=model\n",
    "        self.year=year\n",
    "\n",
    "    def display(self):\n",
    "        print(self.make,self.model,self.year)\n",
    "c1=car(\"a\",\"b\",\"2023\")\n",
    "c1.display()\n"
   ]
  },
  {
   "cell_type": "code",
   "execution_count": 17,
   "metadata": {},
   "outputs": [],
   "source": [
    "#3. Explain the difference between instance methods and class methods. Provide an example of each.\n",
    "#Instance methods need a class instance and can access the instance through self. They act on an object's attributes.\n",
    "#Class methods don't need a class instance. They can access and modify the class state by changing the value of a classvariable that\n",
    "#would apply across all the class objects.They have access to the class itself via cls.\n",
    "\n",
    "#Syntax Instance Method\n",
    "#class MyClass:\n",
    "#  def instance_method(self, arg1, arg2, ...):\n",
    "class Person:\n",
    "    def __init__(self, name, age):\n",
    "        self.name = name\n",
    "        self.age = age\n",
    "\n",
    "    def introduce(self):\n",
    "        return f\"Hi, I'm {self.name} and I'm {self.age} years old.\"\n"
   ]
  },
  {
   "cell_type": "code",
   "execution_count": 18,
   "metadata": {},
   "outputs": [],
   "source": [
    "#Syntax Python Class Method\n",
    "\n",
    "#class C(object):\n",
    "#   @classmethod\n",
    "#   def fun(cls, arg1, arg2, ...):\n",
    "class MyClass:\n",
    "    class_variable = 0\n",
    "\n",
    "    def __init__(self, value):\n",
    "        self.instance_variable = value\n",
    "\n",
    "    @classmethod\n",
    "    def class_method(cls, x):\n",
    "        cls.class_variable += x\n",
    "        return cls.class_variable"
   ]
  },
  {
   "cell_type": "code",
   "execution_count": 8,
   "metadata": {},
   "outputs": [],
   "source": [
    "#4. How does Python implement method overloading? Give an example.\n",
    "# method overloading happens in same class.\n",
    "class Student:\n",
    "    def student(self):\n",
    "        print(\"welcome to pw skills\")\n",
    "    def student(self, name=\"\"):\n",
    "        print(\"welcome to pwskills\",name)\n",
    "    def student(self, name=\"\", course=\"\"):\n",
    "        print(\"welcome to pwskills\",name,course)\n",
    "    \n",
    "  \n"
   ]
  },
  {
   "cell_type": "code",
   "execution_count": 10,
   "metadata": {},
   "outputs": [],
   "source": [
    "stud=Student()\n",
    "    "
   ]
  },
  {
   "cell_type": "code",
   "execution_count": 11,
   "metadata": {},
   "outputs": [
    {
     "name": "stdout",
     "output_type": "stream",
     "text": [
      "welcome to pwskills  \n"
     ]
    }
   ],
   "source": [
    "stud.student()"
   ]
  },
  {
   "cell_type": "code",
   "execution_count": 12,
   "metadata": {},
   "outputs": [
    {
     "name": "stdout",
     "output_type": "stream",
     "text": [
      "welcome to pwskills preeti \n"
     ]
    }
   ],
   "source": [
    "stud.student(\"preeti\")"
   ]
  },
  {
   "cell_type": "code",
   "execution_count": 14,
   "metadata": {},
   "outputs": [
    {
     "name": "stdout",
     "output_type": "stream",
     "text": [
      "welcome to pwskills preeti ds\n"
     ]
    }
   ],
   "source": [
    "stud.student(\"preeti\",\"ds\")"
   ]
  },
  {
   "cell_type": "code",
   "execution_count": null,
   "metadata": {},
   "outputs": [],
   "source": [
    "#5. What are the three types of access modifiers in Python? How are they denoted?\n",
    "#A Class in Python has three types of access modifiers:\n",
    "\n",
    "#Public Access Modifier: Theoretically, public methods and fields can be accessed directly by any class.\n",
    "#Protected Access Modifier: Theoretically, protected methods and fields can be accessed within the same class it is declared and its subclass.\n",
    "#Private Access Modifier: Theoretically, private methods and fields can be only accessed within the same class it is declared.\n",
    "\n",
    "\n"
   ]
  },
  {
   "cell_type": "code",
   "execution_count": 15,
   "metadata": {},
   "outputs": [],
   "source": [
    "#6. Describe the five types of inheritance in Python. Provide a simple example of multiple inheritance.\n",
    "#inheritance refers to the process of child recieve the properties of parent class.\n",
    "#1  Single inheritance enables a derived class to inherit properties from a single parent class, thus enabling code reusability and\n",
    "#  the addition of new features to existing code.\n",
    "#2   Multiple Inheritance: \n",
    "#When a class can be derived from more than one base class this type of inheritance is called multiple inheritances. In multiple inheritances, \n",
    "#all the features of the base classes are inherited into the derived class. \n",
    "#3  Multilevel Inheritance :\n",
    "#In multilevel inheritance, features of the base class and the derived class are further inherited into the new derived class.\n",
    "# This is similar to a relationship representing a child and a grandfather. \n",
    "#4  Hierarchical Inheritance: \n",
    "#When more than one derived class are created from a single base this type of inheritance is called hierarchical inheritance. \n",
    "#In this program, we have a parent (base) class and two child (derived) classes.\n",
    "#5   Hybrid Inheritance: \n",
    "#Inheritance consisting of multiple types of inheritance is called hybrid inheritance.\n",
    "\n",
    "#example of multiple inheritance\n",
    "class Parentclass1():\n",
    "    def method1(self):\n",
    "        print(\"method of parent 1\")\n",
    "class Parentclass2():\n",
    "    def method2(self):\n",
    "        print(\"method of parent 2\")\n",
    "class Child(Parentclass1,Parentclass2):\n",
    "    def method(self):\n",
    "        print(\"method of child class\")\n",
    "\n",
    "\n",
    "\n",
    " "
   ]
  },
  {
   "cell_type": "code",
   "execution_count": 21,
   "metadata": {},
   "outputs": [],
   "source": [
    "c1= Child()"
   ]
  },
  {
   "cell_type": "code",
   "execution_count": 22,
   "metadata": {},
   "outputs": [
    {
     "name": "stdout",
     "output_type": "stream",
     "text": [
      "method of child class\n"
     ]
    }
   ],
   "source": [
    "c1.method()"
   ]
  },
  {
   "cell_type": "code",
   "execution_count": 24,
   "metadata": {},
   "outputs": [
    {
     "name": "stdout",
     "output_type": "stream",
     "text": [
      "In class B\n"
     ]
    }
   ],
   "source": [
    "#7  7. What is the Method Resolution Order (MRO) in Python? How can you retrieve it programmatically?\n",
    "# when a class inherit from 2 or more class will lead to ambiguity in execution of method, to remove this method resolution order (MRO)\n",
    "# is used,also called linearisation.\n",
    "class A:\n",
    "    def rk(self):\n",
    "        print( \"In class A\")\n",
    "class B(A):\n",
    "    def rk(self):\n",
    "        print( \"In class B\")\n",
    "\n",
    "r = B()\n",
    "r.rk()\n"
   ]
  },
  {
   "cell_type": "code",
   "execution_count": 2,
   "metadata": {},
   "outputs": [],
   "source": [
    "#8. Create an abstract base class `Shape` with an abstract method `area()`. Then create two subclasses \n",
    "#`Circle` and `Rectangle` that implement the `area()` method\n",
    "import abc\n",
    "class Shape:\n",
    "    @abc.abstractmethod\n",
    "    def area(self):\n",
    "        pass\n",
    "\n",
    "class Circle(Shape):\n",
    "        def area(self):\n",
    "            return \"area of circle\"\n",
    "        \n",
    "class Rectangle(Shape):\n",
    "        def area(self):\n",
    "            return \"area of rectabgle\"\n",
    "        "
   ]
  },
  {
   "cell_type": "code",
   "execution_count": 3,
   "metadata": {},
   "outputs": [
    {
     "data": {
      "text/plain": [
       "'area of circle'"
      ]
     },
     "execution_count": 3,
     "metadata": {},
     "output_type": "execute_result"
    }
   ],
   "source": [
    "r=Circle()\n",
    "r.area()\n"
   ]
  },
  {
   "cell_type": "code",
   "execution_count": 11,
   "metadata": {},
   "outputs": [],
   "source": [
    "#9. Demonstrate polymorphism by creating a function that can work with different shape objects to calculate \n",
    "#   and print their areas.\n",
    "class Shapes:\n",
    "    def area(self):\n",
    "        print(\"area of shapes\")\n",
    "    def area_of_square(self,side):\n",
    "        return side*side\n",
    "    def area_of_rectangle(self,length,width):\n",
    "        return 2*(length+width)\n",
    "    "
   ]
  },
  {
   "cell_type": "code",
   "execution_count": 5,
   "metadata": {},
   "outputs": [
    {
     "name": "stdout",
     "output_type": "stream",
     "text": [
      "area of shapes\n"
     ]
    }
   ],
   "source": [
    "a1=Shapes()\n",
    "a1.area()"
   ]
  },
  {
   "cell_type": "code",
   "execution_count": 7,
   "metadata": {},
   "outputs": [
    {
     "data": {
      "text/plain": [
       "25"
      ]
     },
     "execution_count": 7,
     "metadata": {},
     "output_type": "execute_result"
    }
   ],
   "source": [
    "a1.area_of_square(5)"
   ]
  },
  {
   "cell_type": "code",
   "execution_count": 12,
   "metadata": {},
   "outputs": [
    {
     "data": {
      "text/plain": [
       "24"
      ]
     },
     "execution_count": 12,
     "metadata": {},
     "output_type": "execute_result"
    }
   ],
   "source": [
    "a1.area_of_rectangle(3,4)"
   ]
  },
  {
   "cell_type": "code",
   "execution_count": 13,
   "metadata": {},
   "outputs": [
    {
     "data": {
      "text/plain": [
       "50"
      ]
     },
     "execution_count": 13,
     "metadata": {},
     "output_type": "execute_result"
    }
   ],
   "source": [
    "a1.area_of_rectangle(5,5)"
   ]
  },
  {
   "cell_type": "code",
   "execution_count": 23,
   "metadata": {},
   "outputs": [],
   "source": [
    "#10. Implement encapsulation in a `BankAccount` class with private attributes for `balance` and \n",
    "#`account_number`. Include methods for deposit, withdrawal, and balance inquiry\n",
    "class Bankaccount:\n",
    "    def __init__(self,balance,account_number):\n",
    "        self._balance=balance\n",
    "        self._account_number=account_number\n",
    "\n",
    "    def deposit(self,d):\n",
    "        return d+_balance\n",
    "    def withdrawl(self,w):\n",
    "        return _balance-w"
   ]
  },
  {
   "cell_type": "code",
   "execution_count": 25,
   "metadata": {},
   "outputs": [],
   "source": [
    "inq=Bankaccount(1000,123)\n"
   ]
  },
  {
   "cell_type": "code",
   "execution_count": 26,
   "metadata": {},
   "outputs": [],
   "source": [
    "#11. Write a class that overrides the `__str__` and `__add__` magic methods. What will these methods allow \n",
    "#    you to do\n",
    "class Student:\n",
    "    def __init__(self):\n",
    "        self.phone=989876\n",
    "        \n",
    "\n",
    "\n"
   ]
  },
  {
   "cell_type": "code",
   "execution_count": 28,
   "metadata": {},
   "outputs": [
    {
     "data": {
      "text/plain": [
       "<__main__.Student at 0x196e0727920>"
      ]
     },
     "execution_count": 28,
     "metadata": {},
     "output_type": "execute_result"
    }
   ],
   "source": [
    "Student()"
   ]
  },
  {
   "cell_type": "code",
   "execution_count": 29,
   "metadata": {},
   "outputs": [
    {
     "name": "stdout",
     "output_type": "stream",
     "text": [
      "<__main__.Student object at 0x00000196E0676A80>\n"
     ]
    }
   ],
   "source": [
    "print(Student())"
   ]
  },
  {
   "cell_type": "code",
   "execution_count": 32,
   "metadata": {},
   "outputs": [
    {
     "data": {
      "text/plain": [
       "<__main__.Student at 0x196e0a65460>"
      ]
     },
     "execution_count": 32,
     "metadata": {},
     "output_type": "execute_result"
    }
   ],
   "source": [
    "class Student:\n",
    "    def __init__(self):\n",
    "        self.phone=989876\n",
    "    def __str__(self):\n",
    "        return \"this method overloads print statement\"\n",
    "\n",
    "Student()"
   ]
  },
  {
   "cell_type": "code",
   "execution_count": 33,
   "metadata": {},
   "outputs": [
    {
     "name": "stdout",
     "output_type": "stream",
     "text": [
      "this method overloads print statement\n"
     ]
    }
   ],
   "source": [
    "print(Student())"
   ]
  },
  {
   "cell_type": "code",
   "execution_count": 34,
   "metadata": {},
   "outputs": [
    {
     "data": {
      "text/plain": [
       "'pwskills'"
      ]
     },
     "execution_count": 34,
     "metadata": {},
     "output_type": "execute_result"
    }
   ],
   "source": [
    "a= \"pw\"\n",
    "b=\"skills\"\n",
    "a+b"
   ]
  },
  {
   "cell_type": "code",
   "execution_count": 36,
   "metadata": {},
   "outputs": [
    {
     "data": {
      "text/plain": [
       "'pwskills'"
      ]
     },
     "execution_count": 36,
     "metadata": {},
     "output_type": "execute_result"
    }
   ],
   "source": [
    "a.__add__(b)"
   ]
  },
  {
   "cell_type": "code",
   "execution_count": 37,
   "metadata": {},
   "outputs": [],
   "source": [
    "#12. Create a decorator that measures and prints the execution time of a function\n",
    "import time\n",
    "def timer_decorator(func):\n",
    "    def time():\n",
    "        start=time.time()\n",
    "        func()\n",
    "        end=time.time()\n",
    "        print(\"the time of executing\",end-start)\n",
    "\n",
    "        return timer"
   ]
  },
  {
   "cell_type": "code",
   "execution_count": 39,
   "metadata": {},
   "outputs": [],
   "source": [
    "@timer_decorator\n",
    "def func_test():\n",
    "    print(11*1000)"
   ]
  },
  {
   "cell_type": "code",
   "execution_count": 41,
   "metadata": {},
   "outputs": [
    {
     "name": "stdout",
     "output_type": "stream",
     "text": [
      "Method in B\n"
     ]
    }
   ],
   "source": [
    "#13. Explain the concept of the Diamond Problem in multiple inheritance. How does Python resolve it?\n",
    "#The diamond problem in multiple inheritance occurs when a class inherits from two classes that both inherit from a single base class.\n",
    "#  This creates a diamond-shaped inheritance diagram and can lead to ambiguity in method resolution.\n",
    "#Example of the Diamond Problem\n",
    "\n",
    "class A:\n",
    "    def method(self):\n",
    "        print(\"Method in A\")\n",
    "\n",
    "class B(A):\n",
    "    def method(self):\n",
    "        print(\"Method in B\")\n",
    "\n",
    "class C(A):\n",
    "    def method(self):\n",
    "        print(\"Method in C\")\n",
    "\n",
    "class D(B, C):\n",
    "    pass\n",
    "\n",
    "d = D()\n",
    "d.method()"
   ]
  },
  {
   "cell_type": "code",
   "execution_count": null,
   "metadata": {},
   "outputs": [],
   "source": [
    "#Python uses the C3 linearization algorithm (also known as Method Resolution Order, or MRO) to resolve this ambiguity.\n",
    "#  You can view the MRO of a class using the __mro__ attribute or the mro() method:"
   ]
  },
  {
   "cell_type": "code",
   "execution_count": 42,
   "metadata": {},
   "outputs": [
    {
     "name": "stdout",
     "output_type": "stream",
     "text": [
      "3\n"
     ]
    }
   ],
   "source": [
    "#14. Write a class method that keeps track of the number of instances created from a class\n",
    "class instance: \n",
    "    counter = 0\n",
    "  \n",
    " \n",
    "    def __init__(self): \n",
    "        \n",
    "        # increment \n",
    "        instance.counter += 1\n",
    "  \n",
    "  \n",
    " \n",
    "g1 = instance() \n",
    "g2 = instance() \n",
    "g3 = instance() \n",
    "print(instance.counter) "
   ]
  },
  {
   "cell_type": "code",
   "execution_count": 43,
   "metadata": {},
   "outputs": [
    {
     "name": "stdout",
     "output_type": "stream",
     "text": [
      "2000 is a leap year\n"
     ]
    }
   ],
   "source": [
    "#15. Implement a static method in a class that checks if a given year is a leap year\n",
    "# Python program to check if year is a leap year or not\n",
    "\n",
    "year = 2000\n",
    "\n",
    "\n",
    "if (year % 400 == 0) and (year % 100 == 0):\n",
    "    print(\"{0} is a leap year\".format(year))\n",
    "\n",
    "\n",
    "elif (year % 4 ==0) and (year % 100 != 0):\n",
    "    print(\"{0} is a leap year\".format(year))\n",
    "\n",
    "else:\n",
    "    print(\"{0} is not a leap year\".format(year))"
   ]
  },
  {
   "cell_type": "code",
   "execution_count": null,
   "metadata": {},
   "outputs": [],
   "source": []
  }
 ],
 "metadata": {
  "kernelspec": {
   "display_name": "Python 3",
   "language": "python",
   "name": "python3"
  },
  "language_info": {
   "codemirror_mode": {
    "name": "ipython",
    "version": 3
   },
   "file_extension": ".py",
   "mimetype": "text/x-python",
   "name": "python",
   "nbconvert_exporter": "python",
   "pygments_lexer": "ipython3",
   "version": "3.12.6"
  }
 },
 "nbformat": 4,
 "nbformat_minor": 2
}
