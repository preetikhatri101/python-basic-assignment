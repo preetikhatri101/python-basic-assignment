{
 "cells": [
  {
   "cell_type": "code",
   "execution_count": null,
   "id": "2c1cfb92-90ce-4985-a51d-a934fbb74804",
   "metadata": {},
   "outputs": [],
   "source": [
    "#ques 1: Explain the key features of Python that make it a popular choice for programming ?\n",
    "#answer  1. general purpose language\n",
    "#        2. easy to read and learn\n",
    "#        3. lot of libraries in python\n",
    "#        4. versatile\n",
    "#        5. huge active community\n",
    "#        6. deal with object oriented as well as functional and procedural languages\n",
    "\n"
   ]
  },
  {
   "cell_type": "code",
   "execution_count": 1,
   "id": "6dad82f9-5c88-4159-9400-1fb26654e8bc",
   "metadata": {},
   "outputs": [
    {
     "data": {
      "text/plain": [
       "1"
      ]
     },
     "execution_count": 1,
     "metadata": {},
     "output_type": "execute_result"
    }
   ],
   "source": [
    "#ques 2:  Describe the role of predefined keywords in Python and provide examples of how they are used in a \n",
    "#         program?\n",
    "#answer   python keywords are some predefined and reserved words that have special meaning.\n",
    "#         keywords are used to define the syntax of coding.\n",
    "#         keyword can not be used as identifier, functions or variables.\n",
    "#         All the keywords in python are written in lowercase axcept True and False.\n",
    "#         there are 35 keywords in pyhton.\n",
    "# examples how they used in python program\n",
    "a = True - False #example \n",
    "a\n",
    "\n"
   ]
  },
  {
   "cell_type": "code",
   "execution_count": 2,
   "id": "fb531b58-e08e-495e-ba4a-420d2991228f",
   "metadata": {},
   "outputs": [
    {
     "data": {
      "text/plain": [
       "[1, 2, 3.5, (3+5j), 'True', 'preeti']"
      ]
     },
     "execution_count": 2,
     "metadata": {},
     "output_type": "execute_result"
    }
   ],
   "source": [
    "#ques 3.  Compare and contrast mutable and immutable objects in Python with examples?\n",
    "#answer   Objects whose state or value can be changed after they createdare called mutable objects,alse called item assignment\n",
    "#         Immutable oblects can not be changed after creation \n",
    "#         list is mutable object which support item assignment\n",
    "list = [1,2,3.5,3+5j,\"True\",\"preeti\"]   # example of mutable object\n",
    "list"
   ]
  },
  {
   "cell_type": "code",
   "execution_count": 3,
   "id": "7fb266be-1911-4660-b203-fe43d529f5b9",
   "metadata": {},
   "outputs": [
    {
     "data": {
      "text/plain": [
       "'preeti'"
      ]
     },
     "execution_count": 3,
     "metadata": {},
     "output_type": "execute_result"
    }
   ],
   "source": [
    "list[5]"
   ]
  },
  {
   "cell_type": "code",
   "execution_count": 4,
   "id": "9cb2d74b-aa8c-48dd-a954-a95c2fa77534",
   "metadata": {},
   "outputs": [
    {
     "data": {
      "text/plain": [
       "'manisha'"
      ]
     },
     "execution_count": 4,
     "metadata": {},
     "output_type": "execute_result"
    }
   ],
   "source": [
    "list[5]=\"manisha\"\n",
    "list[5]"
   ]
  },
  {
   "cell_type": "code",
   "execution_count": 5,
   "id": "5ace8d81-a024-4d11-938e-24b4eb17e205",
   "metadata": {},
   "outputs": [
    {
     "data": {
      "text/plain": [
       "[1, 2, 3.5, (3+5j), 'True', 'manisha']"
      ]
     },
     "execution_count": 5,
     "metadata": {},
     "output_type": "execute_result"
    }
   ],
   "source": [
    "list"
   ]
  },
  {
   "cell_type": "code",
   "execution_count": 6,
   "id": "d31877b4-10b4-490e-85b2-f32f06c55316",
   "metadata": {},
   "outputs": [
    {
     "data": {
      "text/plain": [
       "'preeti'"
      ]
     },
     "execution_count": 6,
     "metadata": {},
     "output_type": "execute_result"
    }
   ],
   "source": [
    "# string is immutable object\n",
    "a= \"preeti\"\n",
    "a"
   ]
  },
  {
   "cell_type": "code",
   "execution_count": 7,
   "id": "2a70c835-b1f1-4008-a9c3-60bee1124652",
   "metadata": {},
   "outputs": [
    {
     "data": {
      "text/plain": [
       "'p'"
      ]
     },
     "execution_count": 7,
     "metadata": {},
     "output_type": "execute_result"
    }
   ],
   "source": [
    "a[0]"
   ]
  },
  {
   "cell_type": "code",
   "execution_count": 8,
   "id": "1dbc35d8-64de-4c19-b1be-c1484aa7f117",
   "metadata": {},
   "outputs": [
    {
     "data": {
      "text/plain": [
       "'i'"
      ]
     },
     "execution_count": 8,
     "metadata": {},
     "output_type": "execute_result"
    }
   ],
   "source": [
    "a[5]"
   ]
  },
  {
   "cell_type": "code",
   "execution_count": 9,
   "id": "f9bb4d80-dfdd-4ab1-b2fa-5b286a978cc5",
   "metadata": {},
   "outputs": [
    {
     "ename": "TypeError",
     "evalue": "'str' object does not support item assignment",
     "output_type": "error",
     "traceback": [
      "\u001b[0;31m---------------------------------------------------------------------------\u001b[0m",
      "\u001b[0;31mTypeError\u001b[0m                                 Traceback (most recent call last)",
      "Cell \u001b[0;32mIn[9], line 1\u001b[0m\n\u001b[0;32m----> 1\u001b[0m \u001b[43ma\u001b[49m\u001b[43m[\u001b[49m\u001b[38;5;241;43m5\u001b[39;49m\u001b[43m]\u001b[49m\u001b[38;5;241m=\u001b[39m\u001b[38;5;124m\"\u001b[39m\u001b[38;5;124my\u001b[39m\u001b[38;5;124m\"\u001b[39m\n\u001b[1;32m      2\u001b[0m a\n",
      "\u001b[0;31mTypeError\u001b[0m: 'str' object does not support item assignment"
     ]
    }
   ],
   "source": [
    "a[5]=\"y\"   # example of immutable oblect that can not be support item assignment\n",
    "a"
   ]
  },
  {
   "cell_type": "code",
   "execution_count": 10,
   "id": "c345649d-a14a-4fb4-a4b8-dbd963521406",
   "metadata": {},
   "outputs": [
    {
     "data": {
      "text/plain": [
       "25"
      ]
     },
     "execution_count": 10,
     "metadata": {},
     "output_type": "execute_result"
    }
   ],
   "source": [
    "#ques 4.  Discuss the different types of operators in Python and provide examples of how they are used?\n",
    "#answer   1. Arithmatic operator(+,_,*,/,%,**, floor operation)\n",
    "add=10+15\n",
    "add"
   ]
  },
  {
   "cell_type": "markdown",
   "id": "a29df77f-df55-4e07-9f0e-097a452c9070",
   "metadata": {},
   "source": [
    "\n"
   ]
  },
  {
   "cell_type": "code",
   "execution_count": 11,
   "id": "9f320304-daeb-47b7-90a6-b7c055554ba2",
   "metadata": {},
   "outputs": [
    {
     "data": {
      "text/plain": [
       "True"
      ]
     },
     "execution_count": 11,
     "metadata": {},
     "output_type": "execute_result"
    }
   ],
   "source": [
    "# 2. comparison operator(<, >, <=, >=, ==, !=)\n",
    "2==2"
   ]
  },
  {
   "cell_type": "code",
   "execution_count": 12,
   "id": "e6b8ea6f-17a0-493e-9aae-ab5f0368f0d0",
   "metadata": {},
   "outputs": [
    {
     "data": {
      "text/plain": [
       "True"
      ]
     },
     "execution_count": 12,
     "metadata": {},
     "output_type": "execute_result"
    }
   ],
   "source": [
    "10>=2"
   ]
  },
  {
   "cell_type": "code",
   "execution_count": 13,
   "id": "c784d807-d0ed-47e6-9fe9-fdfb3493cded",
   "metadata": {},
   "outputs": [
    {
     "data": {
      "text/plain": [
       "True"
      ]
     },
     "execution_count": 13,
     "metadata": {},
     "output_type": "execute_result"
    }
   ],
   "source": [
    "#3logical operators(and, or, not)\n",
    "True and True"
   ]
  },
  {
   "cell_type": "code",
   "execution_count": 14,
   "id": "dfdc275d-7761-4d19-a0e6-e449786fb1ae",
   "metadata": {},
   "outputs": [
    {
     "data": {
      "text/plain": [
       "False"
      ]
     },
     "execution_count": 14,
     "metadata": {},
     "output_type": "execute_result"
    }
   ],
   "source": [
    "True and False"
   ]
  },
  {
   "cell_type": "code",
   "execution_count": 15,
   "id": "6a4efccf-67bb-45f1-97c9-d2d5f533c615",
   "metadata": {},
   "outputs": [
    {
     "data": {
      "text/plain": [
       "False"
      ]
     },
     "execution_count": 15,
     "metadata": {},
     "output_type": "execute_result"
    }
   ],
   "source": [
    "not True"
   ]
  },
  {
   "cell_type": "code",
   "execution_count": 16,
   "id": "e0954951-f778-4232-a6d2-4e7aa07d6d21",
   "metadata": {},
   "outputs": [
    {
     "data": {
      "text/plain": [
       "16"
      ]
     },
     "execution_count": 16,
     "metadata": {},
     "output_type": "execute_result"
    }
   ],
   "source": [
    "#4 assignment operator(=, +=, -=,etc)\n",
    "b=12\n",
    "b+4"
   ]
  },
  {
   "cell_type": "code",
   "execution_count": 18,
   "id": "4ca93a9f-0e61-4cb4-a6d1-9369500d2844",
   "metadata": {},
   "outputs": [
    {
     "data": {
      "text/plain": [
       "True"
      ]
     },
     "execution_count": 18,
     "metadata": {},
     "output_type": "execute_result"
    }
   ],
   "source": [
    "b= \"preeti\"\n",
    "\"r\" in b"
   ]
  },
  {
   "cell_type": "code",
   "execution_count": 19,
   "id": "4a52784b-409a-4f0f-9c86-c27f6903324d",
   "metadata": {},
   "outputs": [
    {
     "data": {
      "text/plain": [
       "False"
      ]
     },
     "execution_count": 19,
     "metadata": {},
     "output_type": "execute_result"
    }
   ],
   "source": [
    "#5. Identity operator(compare the location of two objects)\n",
    "a=4\n",
    "b=5\n",
    "a is b"
   ]
  },
  {
   "cell_type": "code",
   "execution_count": 21,
   "id": "7cbfed65-5cff-4d50-b096-ecd00dbe5081",
   "metadata": {},
   "outputs": [
    {
     "data": {
      "text/plain": [
       "True"
      ]
     },
     "execution_count": 21,
     "metadata": {},
     "output_type": "execute_result"
    }
   ],
   "source": [
    "a=2\n",
    "b=a\n",
    "a is b\n"
   ]
  },
  {
   "cell_type": "code",
   "execution_count": 22,
   "id": "78f021d0-7a06-4486-98cc-410b66ceb536",
   "metadata": {},
   "outputs": [
    {
     "data": {
      "text/plain": [
       "10"
      ]
     },
     "execution_count": 22,
     "metadata": {},
     "output_type": "execute_result"
    }
   ],
   "source": [
    "#6 bitwise operator( operations on bit level)\n",
    "#bitwise and, bitwise or, bitwise xor\n",
    "10&10"
   ]
  },
  {
   "cell_type": "code",
   "execution_count": 23,
   "id": "7347bb4e-0190-40eb-9477-0e7ff8eb271f",
   "metadata": {},
   "outputs": [
    {
     "data": {
      "text/plain": [
       "2"
      ]
     },
     "execution_count": 23,
     "metadata": {},
     "output_type": "execute_result"
    }
   ],
   "source": [
    "18&3"
   ]
  },
  {
   "cell_type": "code",
   "execution_count": 24,
   "id": "3f119013-d1d4-4800-b32f-eb927d1c9339",
   "metadata": {},
   "outputs": [
    {
     "data": {
      "text/plain": [
       "19"
      ]
     },
     "execution_count": 24,
     "metadata": {},
     "output_type": "execute_result"
    }
   ],
   "source": [
    "18|3"
   ]
  },
  {
   "cell_type": "code",
   "execution_count": 25,
   "id": "6ee2c0bb-4c75-492b-84ac-c030c9a10d27",
   "metadata": {},
   "outputs": [
    {
     "data": {
      "text/plain": [
       "7"
      ]
     },
     "execution_count": 25,
     "metadata": {},
     "output_type": "execute_result"
    }
   ],
   "source": [
    "3|5"
   ]
  },
  {
   "cell_type": "code",
   "execution_count": 26,
   "id": "88cba1ee-0950-409e-8169-e490fc7bcbe2",
   "metadata": {},
   "outputs": [
    {
     "data": {
      "text/plain": [
       "6"
      ]
     },
     "execution_count": 26,
     "metadata": {},
     "output_type": "execute_result"
    }
   ],
   "source": [
    "5^3"
   ]
  },
  {
   "cell_type": "code",
   "execution_count": 27,
   "id": "df90e96b-ab3e-4159-8099-00a5e82674c8",
   "metadata": {},
   "outputs": [
    {
     "data": {
      "text/plain": [
       "280"
      ]
     },
     "execution_count": 27,
     "metadata": {},
     "output_type": "execute_result"
    }
   ],
   "source": [
    "#7. shift operator(left shift, right shit)\n",
    "35<<3"
   ]
  },
  {
   "cell_type": "code",
   "execution_count": 28,
   "id": "9687ba62-fe7b-4b4f-abf9-69a05910486a",
   "metadata": {},
   "outputs": [
    {
     "data": {
      "text/plain": [
       "35"
      ]
     },
     "execution_count": 28,
     "metadata": {},
     "output_type": "execute_result"
    }
   ],
   "source": [
    "280>>3"
   ]
  },
  {
   "cell_type": "code",
   "execution_count": 29,
   "id": "5d969756-26c3-4313-af57-e7e9d1e35d95",
   "metadata": {},
   "outputs": [
    {
     "data": {
      "text/plain": [
       "str"
      ]
     },
     "execution_count": 29,
     "metadata": {},
     "output_type": "execute_result"
    }
   ],
   "source": [
    "#ques 5. Explain the concept of type casting in Python with examples?\n",
    "#answer  Typecasting is the method to convert the python variable datatype into a certain datatype in order to perform the required \n",
    "#        operations by users.\n",
    "# there are two type of typecasting in python\n",
    "# 1. Implicit:- python convert tha datatype into another datatye automatically,users do not hace to involve in thid process \n",
    "# 2. Explicit\n",
    "a=\"2\"\n",
    "type(a)"
   ]
  },
  {
   "cell_type": "code",
   "execution_count": 30,
   "id": "d70387a1-d589-4205-84b1-05ffafd1b3fd",
   "metadata": {},
   "outputs": [
    {
     "data": {
      "text/plain": [
       "2"
      ]
     },
     "execution_count": 30,
     "metadata": {},
     "output_type": "execute_result"
    }
   ],
   "source": [
    "a=2\n",
    "a"
   ]
  },
  {
   "cell_type": "code",
   "execution_count": 32,
   "id": "e82720f7-99c4-4d3e-8733-f145d904efcb",
   "metadata": {},
   "outputs": [
    {
     "data": {
      "text/plain": [
       "5"
      ]
     },
     "execution_count": 32,
     "metadata": {},
     "output_type": "execute_result"
    }
   ],
   "source": [
    "b=3\n",
    "a+b"
   ]
  },
  {
   "cell_type": "code",
   "execution_count": 4,
   "id": "71b7f102-67c6-4a8e-9a50-916fdf31fa70",
   "metadata": {},
   "outputs": [],
   "source": [
    "#ques 6.  How do conditional statements work in Python? Illustrate with examples?\n",
    "#         it is the statements in python that provide a choice for the controlflow based on a condition.\n",
    "#         it hrlp you to code decisions based on preconditions\n",
    "#  1. if statement\n",
    "#if condition True:\n",
    "#   block o the code will be executed\n",
    "num=10\n",
    "if num/2==0:\n",
    "    print(\"this is even number\")"
   ]
  },
  {
   "cell_type": "raw",
   "id": "4dc1c327-7db4-4da8-a5c3-960efd8b6592",
   "metadata": {},
   "source": []
  },
  {
   "cell_type": "code",
   "execution_count": 3,
   "id": "394d7bb5-255a-47a1-8af1-f06ecef481c3",
   "metadata": {},
   "outputs": [
    {
     "name": "stdout",
     "output_type": "stream",
     "text": [
      "i will not play cricket\n"
     ]
    }
   ],
   "source": [
    "#2 if else statement\n",
    "weather=\"rainy\"\n",
    "if(weather==(\"rainy\")):\n",
    "   print(\"i will not play cricket\")\n",
    "else:\n",
    "   print(\"i will watch tv\")\n",
    "   \n"
   ]
  },
  {
   "cell_type": "markdown",
   "id": "e6f020a2-33a7-47f7-a73a-ffc031d5516b",
   "metadata": {},
   "source": []
  },
  {
   "cell_type": "code",
   "execution_count": 6,
   "id": "44ae6b3c-b7d0-4db4-93bb-ccd5e980c85d",
   "metadata": {},
   "outputs": [
    {
     "name": "stdout",
     "output_type": "stream",
     "text": [
      "number is equal to 100\n"
     ]
    }
   ],
   "source": [
    "#if elif else statement\n",
    "#syntax\n",
    "#if some condition:\n",
    "#elif some condition:\n",
    "#else:\n",
    "a=100\n",
    "if a>100:\n",
    "    print(\"number ig greater than 100\")\n",
    "elif a<100:\n",
    "    print(\"number is less than 100\")\n",
    "else:\n",
    "    print(\"number is equal to 100\")\n",
    "\n",
    "        "
   ]
  },
  {
   "cell_type": "code",
   "execution_count": 7,
   "id": "b98e48ee-4d34-439e-9392-7542889017cf",
   "metadata": {},
   "outputs": [
    {
     "name": "stdout",
     "output_type": "stream",
     "text": [
      "x is not greater than 5\n"
     ]
    }
   ],
   "source": [
    "#nested if else statement:- multiple if else inside if else\n",
    "x=1\n",
    "y=5\n",
    "if x>5:\n",
    "    if y>5:\n",
    "        print(\"both number are greater than 5\")\n",
    "    else:\n",
    "        print(\"x is greater than 5 but y is smaller than 5\")\n",
    "else:\n",
    "    print(\"x is not greater than 5\")\n",
    "    "
   ]
  },
  {
   "cell_type": "code",
   "execution_count": 9,
   "id": "24aa5460-2b0a-4e72-b38a-95d646d32f57",
   "metadata": {},
   "outputs": [
    {
     "name": "stdout",
     "output_type": "stream",
     "text": [
      "1\n",
      "2\n",
      "3\n",
      "4\n",
      "5\n",
      "6\n",
      "execute successfully\n"
     ]
    }
   ],
   "source": [
    "#ques 7.  Describe the different types of loops in Python and their use cases with examples?\n",
    "#answer   loop statement allows you to execute a block of code repeatedly\n",
    "#         while and for loop are the type of loops in python\n",
    "# while loop:- while loop is used to execute a block of statements repeatedly until a given condition is satisfied.\n",
    "#syntax    while condition:\n",
    " #             block of code\n",
    "n=7\n",
    "i=1           #examples\n",
    "while i<n:\n",
    "    print(i)\n",
    "    i=i+1\n",
    "else:\n",
    "    print(\"execute successfully\")\n",
    "    "
   ]
  },
  {
   "cell_type": "code",
   "execution_count": 13,
   "id": "425f311f-9bc2-4e14-a199-bd010be35be0",
   "metadata": {},
   "outputs": [
    {
     "name": "stdout",
     "output_type": "stream",
     "text": [
      "1\n",
      "2\n"
     ]
    }
   ],
   "source": [
    "n=7\n",
    "i=1           #examples\n",
    "while i<n:\n",
    "    print(i)\n",
    "    i=i+1\n",
    "    if i==3:\n",
    "        break\n",
    "else:\n",
    "    print(\"execute successfully\")"
   ]
  },
  {
   "cell_type": "code",
   "execution_count": 18,
   "id": "15a71635-e9cc-4bc7-abf0-da49db85d194",
   "metadata": {},
   "outputs": [
    {
     "name": "stdout",
     "output_type": "stream",
     "text": [
      "1\n",
      "2\n",
      "3\n",
      "4\n",
      "5\n",
      "6\n",
      "execute successfully\n"
     ]
    }
   ],
   "source": []
  },
  {
   "cell_type": "code",
   "execution_count": 19,
   "id": "b5a32560-d0da-426e-8b5b-2402ccfa7bca",
   "metadata": {},
   "outputs": [
    {
     "name": "stdout",
     "output_type": "stream",
     "text": [
      "p\n",
      "r\n",
      "e\n",
      "e\n",
      "t\n",
      "i\n"
     ]
    }
   ],
   "source": [
    "#for loop :- iterate over a sequence of elements\n",
    "# syntax\n",
    "# for i in \"preeti\":\n",
    "#  print(i)\n",
    "a=\"preeti\"\n",
    "for i in a:\n",
    "    print(i)"
   ]
  },
  {
   "cell_type": "raw",
   "id": "e4e4f116-739a-42aa-befa-0db951212100",
   "metadata": {},
   "source": [
    "\n"
   ]
  },
  {
   "cell_type": "code",
   "execution_count": 25,
   "id": "c40d823b-df24-4613-ae0f-8c3d63d3b268",
   "metadata": {},
   "outputs": [
    {
     "name": "stdout",
     "output_type": "stream",
     "text": [
      "*\n",
      "**\n",
      "***\n",
      "****\n"
     ]
    }
   ],
   "source": [
    "for i in range(4):\n",
    "    for j in range(i+1):\n",
    "        print(\"*\", end=\"\")\n",
    "    print()"
   ]
  },
  {
   "cell_type": "code",
   "execution_count": null,
   "id": "3e16d006-061e-48b8-b783-5d2f2307a591",
   "metadata": {},
   "outputs": [],
   "source": []
  }
 ],
 "metadata": {
  "kernelspec": {
   "display_name": "Python 3 (ipykernel)",
   "language": "python",
   "name": "python3"
  },
  "language_info": {
   "codemirror_mode": {
    "name": "ipython",
    "version": 3
   },
   "file_extension": ".py",
   "mimetype": "text/x-python",
   "name": "python",
   "nbconvert_exporter": "python",
   "pygments_lexer": "ipython3",
   "version": "3.10.8"
  }
 },
 "nbformat": 4,
 "nbformat_minor": 5
}
